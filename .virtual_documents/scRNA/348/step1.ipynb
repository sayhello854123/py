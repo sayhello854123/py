get_ipython().run_line_magic("matplotlib", " inline")
get_ipython().run_line_magic("config", " InlineBackend.figure_format = 'retina'")

import numpy as np
import pandas as pd
import seaborn as sns
import scanpy as sc
from glob import iglob
import anndata
#import scrublet as scr # requires 'pip install scrublet'
import os
import sklearn
from sklearn.linear_model import LogisticRegression
import matplotlib as mpl
import scipy
import matplotlib.pyplot as plt
import pickle
np.random.seed(0)

sc.settings.verbosity = 3  # verbosity: errors (0), warnings (1), info (2), hints (3)
sc.logging.print_versions()
sc.settings.set_figure_params(dpi=100)  # low dpi (dots per inch) yields small inline figures


get_ipython().run_cell_magic("time", "", """import os
holder = []
path = './00.data/'
files = os.listdir(path)
print(files)
for file in files:
    file_dir = os.path.join(path,file)
    print("开始处理：",file)
    holder.append(sc.read_10x_mtx(file_dir,var_names= 'gene_symbols',cache=True))
    holder[-1].var_names_make_unique()
     ##add metadata
    holder[-1].obs['ID'] = file.split('_')[1]
    holder[-1].obs['Type'] = file.split('_')[0]""")


get_ipython().run_cell_magic("time", "", """adata = holder[0].concatenate(holder[1:],join='outer',index_unique=None)
adata.X = adata.X.tocsr()
adata.var_names_make_unique()""")


adata.obs


adata.var


# Filer cells with less than 200 genes expressed
sc.pp.filter_cells(adata, min_genes=200)
# Filer genes expressed in less than 3 cells
sc.pp.filter_genes(adata, min_cells=3)


adata


# mitochondrial genes
adata.var['mt'] = adata.var_names.str.startswith('mt-')
# ribosomal genes
adata.var['ribo'] = adata.var_names.str.startswith(("Rps","Rpl"))
# hemoglobin genes.
adata.var['hb'] = adata.var_names.str.contains(("^Hb[^(p)]"))


adata.var


sc.pp.calculate_qc_metrics(adata, qc_vars=['mt', 'ribo', 'hb'], percent_top=None, log1p=False, inplace=True)


adata.obs['n_counts'] = adata.X.sum(1)
adata.obs['log_counts'] = np.log(adata.obs['n_counts'])
adata.obs['n_genes'] = (adata.X > 0).sum(1)


sc.settings.figdir = './result/'
plt.rcParams['figure.figsize']=(8,8)
sc.pl.violin(adata, ['n_genes', 'n_counts', 'pct_counts_mt','pct_counts_ribo',],
             jitter=1, groupby = 'Type', rotation= 45,save='QC_befor.pdf')


plt.rcParams['figure.figsize']=(4,4)
sc.pl.scatter(adata, x='n_counts', y='pct_counts_mt', color='Type',title='',save='QC_MT.pdf')


sc.pl.scatter(adata, x='n_genes', y='pct_counts_ribo', color='Type',title='',save='QC_rb.pdf')


print('Remaining cells %d'%adata.n_obs)


upper_lim = np.quantile(adata.obs.n_genes.values,.98)
lower_lim = np.quantile(adata.obs.n_genes.values,.02)
maxUMI = np.quantile(adata.obs.n_counts.values,.98)
print(f'{lower_lim} to {upper_lim}')
print(f'{maxUMI}')


ribo_lim =np.quantile(adata.obs.pct_counts_ribo.values,.02)
ribo_lim =5 if ribo_lim >5 else ribo_lim 
print(ribo_lim)


adata = adata[(adata.obs.n_genes < upper_lim)& (adata.obs.n_genes > lower_lim)]
adata = adata[adata.obs.pct_counts_mt< 20,:]
adata = adata[adata.obs.n_counts <maxUMI]
adata = adata[adata.obs.pct_counts_ribo > ribo_lim]
print('Remaining cells %d'%adata.n_obs)


sc.pl.highest_expr_genes(adata, n_top=20)


malat1 = adata.var_names.str.startswith('Malat1')
Rps_genes = adata.var_names.str.startswith("Rps")
Rpl_genes = adata.var_names.str.startswith("Rpl")


remove = np.add(Rps_genes, malat1)
remove = np.add(remove,Rpl_genes)
keep = np.invert(remove)
adata = adata[:,keep]

print(adata.n_obs, adata.n_vars)


sc.pl.highest_expr_genes(adata, n_top=20,save='QC_top20.pdf')


import scrublet as scr


scrub = scr.Scrublet(adata.X)
adata.obs['doublet_scores'], adata.obs['predicted_doublets'] = scrub.scrub_doublets()



scrub.plot_histogram()


num_predicted_doublets = sum(adata.obs['predicted_doublets'])
print(f"Predicted {num_predicted_doublets} doublets")


adata.obs['doublet_info'] = adata.obs["predicted_doublets"].astype(str)
sc.pl.violin(adata, 'n_genes',
             jitter=1, groupby = 'doublet_info', rotation=45,save='doublet.pdf')


adata = adata[adata.obs['doublet_info'] == 'False',:]
print(adata.shape)


adata.write('./01.single data/scRNA_qc.h5ad')
