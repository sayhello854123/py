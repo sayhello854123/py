{
 "cells": [
  {
   "cell_type": "markdown",
   "metadata": {},
   "source": [
    "# Liver analysis\n",
    "\n",
    "**Author**: Alma Andersson<br>\n",
    "**Description**:<br>\n",
    "\n",
    "Joint spatial analysis of the entire dataset. The analysis is separated into three parts\n",
    "\n",
    "- Data Loading and processing\n",
    "- Feature by distance analysis\n",
    "- Classification of structures\n",
    "\n",
    "### Data loading and processing\n",
    "A brief section loading and processing the data.\n",
    "\n",
    "\n",
    "### Feature by distance analysis\n",
    "Here, expression as a function of distance (_feature by distance_) is exemplified, as well as the slightly modified variant where the log-ratio between distances to two different structure classes (here portal and central veins) is examined.\n",
    "\n",
    "\n",
    "### Classification\n",
    "This section illustrates how the type of a vein can be predicted based on its neighborhood expression profile (NEP). Included in the analysis is the creation of NEPs, a two step procedure where a neighborhood is first identified, from which a weighted gene expression (by distance) is then assembled. Once the NEPs are formed, a _logistic regression_ model is trained to predict vein type based on the NEP. Cross validation is also implemented to assess performance.\n",
    "\n",
    "\n",
    "<hr>"
   ]
  },
  {
   "cell_type": "markdown",
   "metadata": {},
   "source": [
    "### Load libraries\n",
    "\n",
    "Load data the necessary packages and data for the analysis, also specify certain constants which will be used throughout the analysis."
   ]
  },
  {
   "cell_type": "code",
   "execution_count": 14,
   "metadata": {},
   "outputs": [
    {
     "name": "stdout",
     "output_type": "stream",
     "text": [
      "The autoreload extension is already loaded. To reload it, use:\n",
      "  %reload_ext autoreload\n"
     ]
    }
   ],
   "source": [
    "%load_ext autoreload\n",
    "%autoreload 2\n"
   ]
  },
  {
   "cell_type": "code",
   "execution_count": 2,
   "metadata": {},
   "outputs": [],
   "source": [
    "import hepaquery as hq\n",
    "import pandas as pd\n",
    "import numpy as np\n",
    "import anndata as ad\n",
    "\n",
    "from skmisc.loess import loess\n",
    "\n",
    "import os\n",
    "import os.path as osp\n",
    "from os import listdir\n",
    "\n",
    "import matplotlib.pyplot as plt\n",
    "from matplotlib import rcParams\n",
    "\n",
    "from PIL import Image\n",
    "\n",
    "from functools import reduce\n",
    "\n",
    "from scipy.spatial.distance import cdist\n",
    "\n",
    "from hepaquery.structures import VeinData, Model\n",
    "import hepaquery.visual as viz\n",
    "import hepaquery.utils as ut\n",
    "\n",
    "import re\n",
    "import datetime\n",
    "\n",
    "from typing import Tuple\n"
   ]
  },
  {
   "cell_type": "code",
   "execution_count": 3,
   "metadata": {},
   "outputs": [
    {
     "name": "stdout",
     "output_type": "stream",
     "text": [
      "['/Users/franziskahildebrandt/.local/lib/python3.8/site-packages/hepaquery-0.0.1-py3.8.egg/hepaquery']\n"
     ]
    }
   ],
   "source": [
    "print(hq.__path__)"
   ]
  },
  {
   "cell_type": "code",
   "execution_count": 4,
   "metadata": {},
   "outputs": [],
   "source": [
    "rcParams[\"figure.facecolor\"] = \"white\""
   ]
  },
  {
   "cell_type": "markdown",
   "metadata": {},
   "source": [
    "### Global Variables\n",
    "\n",
    "Here certain global variables are set, which will be used to save output and load data. A brief explanation is provided below:\n",
    "\n",
    "- TAG : Unique identifier for the analysis. All results will be saved in a folder called \"TAG-analysis\" within the res-folder.\n",
    "- REPO\\_DIR : Path to the repository directory, only change this if files are moved around.\n",
    "- DATA_DIR : Path to the data being loaded.\n",
    "- GENE_LIST_DIR : Directory to lists of genes\n",
    "- SCALE_FACTOR : Scaling factor between pixels to $\\mu m$"
   ]
  },
  {
   "cell_type": "code",
   "execution_count": 15,
   "metadata": {},
   "outputs": [],
   "source": [
    "\n",
    "TAG = re.sub(\":| |-|\\\\.|\",\"\",str(datetime.datetime.today()))\n",
    "TAG = TAG + \"-analysis-spp\"\n",
    "\n",
    "REPO_DIR = osp.dirname(osp.abspath(os.getcwd()))\n",
    "DATA_DIR = osp.join(\"/Users/franziskahildebrandt/Desktop/PhDprojectFranziskaHildebrandt/ST-liver/uninfectedLiver-sequenced/ankarliver/data/h5ad-cca\")\n",
    "RESULTS_DIR = osp.join(REPO_DIR,\"res/bivariate_res/ans_4\",TAG)\n",
    "\n",
    "if not osp.exists(RESULTS_DIR):\n",
    "    os.mkdir(RESULTS_DIR)\n",
    "    \n",
    "GENE_LIST_DIR = osp.join(REPO_DIR,\"data/gene-lists/ans_4\")\n",
    "\n",
    "\n",
    "SCALE_FACTOR = 2.8\n",
    "\n",
    "SAVE_RESULTS = True\n"
   ]
  },
  {
   "cell_type": "code",
   "execution_count": 6,
   "metadata": {},
   "outputs": [
    {
     "data": {
      "text/plain": [
       "{'CN65-E1': AnnData object with n_obs × n_vars = 590 × 9655\n",
       "     obs: '_x', '_y', 'x', 'y', 'sample', 'replicate'\n",
       "     var: 'gene'\n",
       "     uns: 'img', 'mask', 'replicate', 'sample'\n",
       "     obsm: 'vein_distances',\n",
       " 'CN65-C1': AnnData object with n_obs × n_vars = 647 × 9655\n",
       "     obs: '_x', '_y', 'x', 'y', 'sample', 'replicate'\n",
       "     var: 'gene'\n",
       "     uns: 'img', 'mask', 'replicate', 'sample'\n",
       "     obsm: 'vein_distances',\n",
       " 'CN16-E1': AnnData object with n_obs × n_vars = 1348 × 9655\n",
       "     obs: '_x', '_y', 'x', 'y', 'sample', 'replicate'\n",
       "     var: 'gene'\n",
       "     uns: 'img', 'mask', 'replicate', 'sample'\n",
       "     obsm: 'vein_distances',\n",
       " 'CN73-E2': AnnData object with n_obs × n_vars = 650 × 9655\n",
       "     obs: '_x', '_y', 'x', 'y', 'sample', 'replicate'\n",
       "     var: 'gene'\n",
       "     uns: 'img', 'mask', 'replicate', 'sample'\n",
       "     obsm: 'vein_distances',\n",
       " 'CN65-D1': AnnData object with n_obs × n_vars = 663 × 9655\n",
       "     obs: '_x', '_y', 'x', 'y', 'sample', 'replicate'\n",
       "     var: 'gene'\n",
       "     uns: 'img', 'mask', 'replicate', 'sample'\n",
       "     obsm: 'vein_distances',\n",
       " 'CN16-D1': AnnData object with n_obs × n_vars = 1262 × 9655\n",
       "     obs: '_x', '_y', 'x', 'y', 'sample', 'replicate'\n",
       "     var: 'gene'\n",
       "     uns: 'img', 'mask', 'replicate', 'sample'\n",
       "     obsm: 'vein_distances',\n",
       " 'CN73-C1': AnnData object with n_obs × n_vars = 673 × 9655\n",
       "     obs: '_x', '_y', 'x', 'y', 'sample', 'replicate'\n",
       "     var: 'gene'\n",
       "     uns: 'img', 'mask', 'replicate', 'sample'\n",
       "     obsm: 'vein_distances',\n",
       " 'CN16-D2': AnnData object with n_obs × n_vars = 487 × 9655\n",
       "     obs: '_x', '_y', 'x', 'y', 'sample', 'replicate'\n",
       "     var: 'gene'\n",
       "     uns: 'img', 'mask', 'replicate', 'sample'\n",
       "     obsm: 'vein_distances',\n",
       " 'CN65-D2': AnnData object with n_obs × n_vars = 629 × 9655\n",
       "     obs: '_x', '_y', 'x', 'y', 'sample', 'replicate'\n",
       "     var: 'gene'\n",
       "     uns: 'img', 'mask', 'replicate', 'sample'\n",
       "     obsm: 'vein_distances',\n",
       " 'CN16-E2': AnnData object with n_obs × n_vars = 487 × 9655\n",
       "     obs: '_x', '_y', 'x', 'y', 'sample', 'replicate'\n",
       "     var: 'gene'\n",
       "     uns: 'img', 'mask', 'replicate', 'sample'\n",
       "     obsm: 'vein_distances',\n",
       " 'CN65-C2': AnnData object with n_obs × n_vars = 626 × 9655\n",
       "     obs: '_x', '_y', 'x', 'y', 'sample', 'replicate'\n",
       "     var: 'gene'\n",
       "     uns: 'img', 'mask', 'replicate', 'sample'\n",
       "     obsm: 'vein_distances',\n",
       " 'CN73-D1': AnnData object with n_obs × n_vars = 684 × 9655\n",
       "     obs: '_x', '_y', 'x', 'y', 'sample', 'replicate'\n",
       "     var: 'gene'\n",
       "     uns: 'img', 'mask', 'replicate', 'sample'\n",
       "     obsm: 'vein_distances'}"
      ]
     },
     "execution_count": 6,
     "metadata": {},
     "output_type": "execute_result"
    }
   ],
   "source": [
    "# Get data paths\n",
    "PTHS = list(filter(lambda x: x.endswith(\"h5ad\"),os.listdir(DATA_DIR)))\n",
    "PTHS = {p:osp.join(DATA_DIR,p) for p in PTHS }\n",
    "\n",
    "data_set = {n:ad.read_h5ad(p) for n,p in PTHS.items()}\n",
    "new_names = {k:d.uns[\"sample\"] + \"-\" + d.uns[\"replicate\"] for k,d in data_set.items()}\n",
    "data_set = dict((new_names[k],d) for k,d in data_set.items())\n",
    "    \n",
    "data_set"
   ]
  },
  {
   "cell_type": "code",
   "execution_count": 7,
   "metadata": {},
   "outputs": [
    {
     "data": {
      "text/plain": [
       "{'CN65-E1': AnnData object with n_obs × n_vars = 590 × 9655\n",
       "     obs: '_x', '_y', 'x', 'y', 'sample', 'replicate'\n",
       "     var: 'gene'\n",
       "     uns: 'img', 'mask', 'replicate', 'sample'\n",
       "     obsm: 'vein_distances',\n",
       " 'CN73-E2': AnnData object with n_obs × n_vars = 650 × 9655\n",
       "     obs: '_x', '_y', 'x', 'y', 'sample', 'replicate'\n",
       "     var: 'gene'\n",
       "     uns: 'img', 'mask', 'replicate', 'sample'\n",
       "     obsm: 'vein_distances',\n",
       " 'CN65-D1': AnnData object with n_obs × n_vars = 663 × 9655\n",
       "     obs: '_x', '_y', 'x', 'y', 'sample', 'replicate'\n",
       "     var: 'gene'\n",
       "     uns: 'img', 'mask', 'replicate', 'sample'\n",
       "     obsm: 'vein_distances',\n",
       " 'CN73-C1': AnnData object with n_obs × n_vars = 673 × 9655\n",
       "     obs: '_x', '_y', 'x', 'y', 'sample', 'replicate'\n",
       "     var: 'gene'\n",
       "     uns: 'img', 'mask', 'replicate', 'sample'\n",
       "     obsm: 'vein_distances',\n",
       " 'CN16-D2': AnnData object with n_obs × n_vars = 487 × 9655\n",
       "     obs: '_x', '_y', 'x', 'y', 'sample', 'replicate'\n",
       "     var: 'gene'\n",
       "     uns: 'img', 'mask', 'replicate', 'sample'\n",
       "     obsm: 'vein_distances',\n",
       " 'CN65-D2': AnnData object with n_obs × n_vars = 629 × 9655\n",
       "     obs: '_x', '_y', 'x', 'y', 'sample', 'replicate'\n",
       "     var: 'gene'\n",
       "     uns: 'img', 'mask', 'replicate', 'sample'\n",
       "     obsm: 'vein_distances',\n",
       " 'CN16-E2': AnnData object with n_obs × n_vars = 487 × 9655\n",
       "     obs: '_x', '_y', 'x', 'y', 'sample', 'replicate'\n",
       "     var: 'gene'\n",
       "     uns: 'img', 'mask', 'replicate', 'sample'\n",
       "     obsm: 'vein_distances',\n",
       " 'CN73-D1': AnnData object with n_obs × n_vars = 684 × 9655\n",
       "     obs: '_x', '_y', 'x', 'y', 'sample', 'replicate'\n",
       "     var: 'gene'\n",
       "     uns: 'img', 'mask', 'replicate', 'sample'\n",
       "     obsm: 'vein_distances'}"
      ]
     },
     "execution_count": 7,
     "metadata": {},
     "output_type": "execute_result"
    }
   ],
   "source": [
    "exclude = [\"CN65-C1\",\"CN65-C2\",\"CN16-D1\", \"CN16-E1\"]\n",
    "\n",
    "for ex in exclude:\n",
    "    data_set.pop(ex)\n",
    "\n",
    "data_set"
   ]
  },
  {
   "cell_type": "code",
   "execution_count": 16,
   "metadata": {},
   "outputs": [],
   "source": [
    "genes = ut.load_genelist(GENE_LIST_DIR,\n",
    "                         filter_tag = \"Spp\",\n",
    "                        )"
   ]
  },
  {
   "cell_type": "code",
   "execution_count": 17,
   "metadata": {},
   "outputs": [
    {
     "data": {
      "text/plain": [
       "{'Spp1': ['Spp1'], 'all': ['Spp1']}"
      ]
     },
     "execution_count": 17,
     "metadata": {},
     "output_type": "execute_result"
    }
   ],
   "source": [
    "genes"
   ]
  },
  {
   "cell_type": "markdown",
   "metadata": {},
   "source": [
    "Visualize the data to make sure everything looks as expected"
   ]
  },
  {
   "cell_type": "code",
   "execution_count": 18,
   "metadata": {},
   "outputs": [
    {
     "data": {
      "image/png": "[encoded data removed]",
      "text/plain": [
       "<Figure size 1800x360 with 6 Axes>"
      ]
     },
     "metadata": {},
     "output_type": "display_data"
    }
   ],
   "source": [
    "n_genes = len(genes[\"all\"])\n",
    "\n",
    "fig,ax  = viz.get_figure(n_elements=n_genes,n_cols = 5,side_size=5)\n",
    "\n",
    "ax = ax.flatten()\n",
    "alpha = 0.05\n",
    "\n",
    "likelihoods = dict()\n",
    "\n",
    "plt_idx = 0\n",
    "for ii,gene in enumerate(genes[\"all\"]):\n",
    "    ys = []\n",
    "    xs = []\n",
    "    THRS = 143\n",
    "    \n",
    "    for k,data in enumerate(data_set.values()):\n",
    "        if not gene in data.var.index.values:\n",
    "            continue\n",
    "        _y = data.obs_vector(gene)\n",
    "        _x = data.obsm[\"vein_distances\"][[\"dist_type_central\",\"dist_type_portal\"]].values\n",
    "        keep = np.max(_x,axis=1) < THRS\n",
    "        _x = _x[keep,:]\n",
    "        _y = _y[keep]\n",
    "        ys.append(_y)\n",
    "        xs.append(_x)\n",
    "\n",
    "    if len(xs)> 0:\n",
    "        ys = np.concatenate(ys)\n",
    "        xs = np.concatenate(xs,axis=0)\n",
    "        xs = np.hstack((np.ones((xs.shape[0],1)),xs))\n",
    "\n",
    "        ll = viz.bivariate_expression_plot(ax[plt_idx],\n",
    "                                           data = [xs,ys],\n",
    "                                           feature = gene,\n",
    "                                           feature_name = \"Gene\",\n",
    "                                           cmap = plt.cm.magma,\n",
    "                                           distance_scale_factor = 2.8,\n",
    "                                          )\n",
    "        \n",
    "        likelihoods[gene] = ll\n",
    "        plt_idx += 1\n",
    "    \n",
    "fig.tight_layout()\n",
    "if SAVE_RESULTS:\n",
    "    fig.savefig(osp.join(RESULTS_DIR,\"feature-by-distance-ratio.svg\"),\n",
    "                facecolor = \"white\", dpi = 600)"
   ]
  },
  {
   "cell_type": "markdown",
   "metadata": {},
   "source": [
    "## Likelihood ratio test\n",
    "\n",
    "If we have a _full model_ and one _reduced model_, where the second is nested in the former we can conduct a so called likelihood ratio test (LRT) to determine whether the full model significantly improves the model or not (if not we use the simpler model).<br>\n",
    "<br>\n",
    "The LRT is executed as follows:<br>\n",
    "<br>\n",
    "Let $\\mathcal{L}_{reduced}$ and $\\mathcal{L}_{full}$ be the likelihood values of each model, and let:<br>\n",
    "<br>\n",
    "\\begin{equation}\n",
    "    D = -2\\times \\log(\\frac{\\mathcal{L}_{reduced}}{\\mathcal{L}_{full}})\n",
    "\\end{equation}\n",
    "\n",
    "then $D \\sim \\mathcal{X}^2(\\delta)$ where $\\delta$ is the number the difference in number of parameters between the full and reduced model.<br>\n",
    "<br>\n",
    "By computing the CDF for a given value $D$ and subtracting this from 1, we get the probability of observing a value equally large or more extreme (p-value). If the p-value is below a certain significance threshold $\\alpha$ we use the full model does a better job explaining the data (accounting for the extra parameters). <br>\n",
    "<br>\n",
    "In this example we test two reduced models, one where the portal respectively central distance is removed. Whenever we get a p-value larger than $\\alpha$ this means that the covariate (distance) that we removed did not add to the reduced model.<br>\n",
    "<br>\n",
    "Source : https://www.itl.nist.gov/div898/handbook/apr/section2/apr233.htm"
   ]
  },
  {
   "cell_type": "code",
   "execution_count": 11,
   "metadata": {},
   "outputs": [
    {
     "data": {
      "text/plain": [
       "{'Hsd11b1': array([-168.83181243, -178.38193909, -177.31436719]),\n",
       " 'Ly6e': array([-578.23977685, -583.80882075, -579.20622452]),\n",
       " 'Fgfr2': array([-254.88037274, -255.64625152, -254.9045114 ]),\n",
       " 'Rspo3': array([-70.36631966, -71.32776032, -80.11368227]),\n",
       " 'Lifr': array([-483.59842281, -487.43952699, -486.11744982]),\n",
       " 'Dcn': array([-551.29545849, -552.13056255, -552.84158347])}"
      ]
     },
     "execution_count": 11,
     "metadata": {},
     "output_type": "execute_result"
    }
   ],
   "source": [
    "likelihoods\n"
   ]
  },
  {
   "cell_type": "code",
   "execution_count": 12,
   "metadata": {},
   "outputs": [],
   "source": [
    "model_eval = ut.likelihood_ratio_test(likelihoods,\n",
    "                                      dofs = [1,1,2],\n",
    "                                      included_covariates=[\"central\",\"portal\".\"intercept\"],\n",
    "                                     )\n",
    "\n",
    "if SAVE_RESULTS:\n",
    "    model_eval.to_csv(osp.join(RESULTS_DIR,\"likelihood-ratio-test-results.tsv\"),\n",
    "                      sep = \"\\t\",\n",
    "                     )\n",
    "    "
   ]
  },
  {
   "cell_type": "code",
   "execution_count": 13,
   "metadata": {},
   "outputs": [
    {
     "data": {
      "text/html": [
       "<div>\n",
       "<style scoped>\n",
       "    .dataframe tbody tr th:only-of-type {\n",
       "        vertical-align: middle;\n",
       "    }\n",
       "\n",
       "    .dataframe tbody tr th {\n",
       "        vertical-align: top;\n",
       "    }\n",
       "\n",
       "    .dataframe thead th {\n",
       "        text-align: right;\n",
       "    }\n",
       "</style>\n",
       "<table border=\"1\" class=\"dataframe\">\n",
       "  <thead>\n",
       "    <tr style=\"text-align: right;\">\n",
       "      <th></th>\n",
       "      <th>covariates_central</th>\n",
       "      <th>covariates_portal</th>\n",
       "      <th>[full_model]_superior_to_[central_model]</th>\n",
       "      <th>[full_model]_superior_to_[portal_model]</th>\n",
       "    </tr>\n",
       "  </thead>\n",
       "  <tbody>\n",
       "    <tr>\n",
       "      <th>Hsd11b1</th>\n",
       "      <td>0.000012</td>\n",
       "      <td>0.000038</td>\n",
       "      <td>True</td>\n",
       "      <td>True</td>\n",
       "    </tr>\n",
       "    <tr>\n",
       "      <th>Ly6e</th>\n",
       "      <td>0.000846</td>\n",
       "      <td>0.164442</td>\n",
       "      <td>True</td>\n",
       "      <td>False</td>\n",
       "    </tr>\n",
       "    <tr>\n",
       "      <th>Fgfr2</th>\n",
       "      <td>0.215849</td>\n",
       "      <td>0.826088</td>\n",
       "      <td>False</td>\n",
       "      <td>False</td>\n",
       "    </tr>\n",
       "    <tr>\n",
       "      <th>Rspo3</th>\n",
       "      <td>0.165539</td>\n",
       "      <td>0.000010</td>\n",
       "      <td>False</td>\n",
       "      <td>True</td>\n",
       "    </tr>\n",
       "    <tr>\n",
       "      <th>Lifr</th>\n",
       "      <td>0.005577</td>\n",
       "      <td>0.024796</td>\n",
       "      <td>True</td>\n",
       "      <td>True</td>\n",
       "    </tr>\n",
       "    <tr>\n",
       "      <th>Dcn</th>\n",
       "      <td>0.196231</td>\n",
       "      <td>0.078666</td>\n",
       "      <td>False</td>\n",
       "      <td>False</td>\n",
       "    </tr>\n",
       "  </tbody>\n",
       "</table>\n",
       "</div>"
      ],
      "text/plain": [
       "         covariates_central  covariates_portal  \\\n",
       "Hsd11b1            0.000012           0.000038   \n",
       "Ly6e               0.000846           0.164442   \n",
       "Fgfr2              0.215849           0.826088   \n",
       "Rspo3              0.165539           0.000010   \n",
       "Lifr               0.005577           0.024796   \n",
       "Dcn                0.196231           0.078666   \n",
       "\n",
       "         [full_model]_superior_to_[central_model]  \\\n",
       "Hsd11b1                                      True   \n",
       "Ly6e                                         True   \n",
       "Fgfr2                                       False   \n",
       "Rspo3                                       False   \n",
       "Lifr                                         True   \n",
       "Dcn                                         False   \n",
       "\n",
       "         [full_model]_superior_to_[portal_model]  \n",
       "Hsd11b1                                     True  \n",
       "Ly6e                                       False  \n",
       "Fgfr2                                      False  \n",
       "Rspo3                                       True  \n",
       "Lifr                                        True  \n",
       "Dcn                                        False  "
      ]
     },
     "execution_count": 13,
     "metadata": {},
     "output_type": "execute_result"
    }
   ],
   "source": [
    "model_eval"
   ]
  },
  {
   "cell_type": "code",
   "execution_count": null,
   "metadata": {},
   "outputs": [],
   "source": []
  }
 ],
 "metadata": {
  "kernelspec": {
   "display_name": "Python 3",
   "language": "python",
   "name": "python3"
  },
  "language_info": {
   "codemirror_mode": {
    "name": "ipython",
    "version": 3
   },
   "file_extension": ".py",
   "mimetype": "text/x-python",
   "name": "python",
   "nbconvert_exporter": "python",
   "pygments_lexer": "ipython3",
   "version": "3.7.5"
  }
 },
 "nbformat": 4,
 "nbformat_minor": 2
}
