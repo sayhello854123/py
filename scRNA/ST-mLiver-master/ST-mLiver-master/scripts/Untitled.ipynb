{
 "cells": [
  {
   "cell_type": "code",
   "execution_count": 4,
   "metadata": {},
   "outputs": [],
   "source": [
    "import pandas as pd\n",
    "import numpy as np\n",
    "import anndata as ad"
   ]
  },
  {
   "cell_type": "code",
   "execution_count": 2,
   "metadata": {},
   "outputs": [],
   "source": [
    "cnt_pth = \"/home/alma/w-projects/scmap/franzi/data/iter-002/sc-liver-count-data-1.tsv.gz\"\n",
    "cnt = pd.read_csv(cnt_pth,sep=\"\\t\",header=0,index_col = 0)"
   ]
  },
  {
   "cell_type": "code",
   "execution_count": 3,
   "metadata": {},
   "outputs": [],
   "source": [
    "mta_pth = \"/home/alma/w-projects/scmap/franzi/data/iter-002/sc-liver-metadata-1.tsv\"\n",
    "mta = pd.read_csv(mta_pth,sep=\"\\t\",header=0,index_col = 0)"
   ]
  },
  {
   "cell_type": "code",
   "execution_count": 14,
   "metadata": {},
   "outputs": [],
   "source": [
    "inter = cnt.index.intersection(mta.index)\n",
    "\n",
    "mta = mta.loc[inter,:]\n",
    "cnt = cnt.loc[inter,:]\n"
   ]
  },
  {
   "cell_type": "code",
   "execution_count": 15,
   "metadata": {},
   "outputs": [],
   "source": [
    "import scanpy as sc\n",
    "\n",
    "data = ad.AnnData(cnt.values,var = pd.DataFrame(cnt.columns.values,index = cnt.columns),obs = mta)"
   ]
  },
  {
   "cell_type": "code",
   "execution_count": 16,
   "metadata": {},
   "outputs": [],
   "source": [
    "sc.pp.normalize_per_cell(data)\n",
    "sc.pp.log1p(data)"
   ]
  },
  {
   "cell_type": "code",
   "execution_count": 31,
   "metadata": {},
   "outputs": [],
   "source": [
    "cts = np.unique(data.obs[\"Annotation\"].values)\n",
    "ncts = len(cts)\n",
    "\n",
    "expr = np.zeros((ncts,data.shape[1]))\n",
    "for k,ct in enumerate(cts):\n",
    "    expr[k,:] = data[data.obs[\"Annotation\"].values==ct,:].X.mean(axis=0)"
   ]
  },
  {
   "cell_type": "code",
   "execution_count": 38,
   "metadata": {},
   "outputs": [],
   "source": [
    "import matplotlib.pyplot as plt\n",
    "\n",
    "R = np.corrcoef(expr)\n",
    "R = pd.DataFrame(R,columns = cts,index = cts)"
   ]
  },
  {
   "cell_type": "code",
   "execution_count": 39,
   "metadata": {},
   "outputs": [],
   "source": [
    "R.to_csv(\"/tmp/avct.tsv\",sep=\"\\t\")"
   ]
  }
 ],
 "metadata": {
  "kernelspec": {
   "display_name": "Python 3",
   "language": "python",
   "name": "python3"
  },
  "language_info": {
   "codemirror_mode": {
    "name": "ipython",
    "version": 3
   },
   "file_extension": ".py",
   "mimetype": "text/x-python",
   "name": "python",
   "nbconvert_exporter": "python",
   "pygments_lexer": "ipython3",
   "version": "3.8.5"
  }
 },
 "nbformat": 4,
 "nbformat_minor": 2
}
