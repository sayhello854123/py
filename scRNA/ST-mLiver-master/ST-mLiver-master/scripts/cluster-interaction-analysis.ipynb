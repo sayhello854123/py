{
 "cells": [
  {
   "cell_type": "markdown",
   "metadata": {},
   "source": [
    "# Cluster Interaction Analysis\n",
    "\n",
    "**Author**: Alma Andersson<br>\n",
    "**Description**:<br>\n",
    "<br>\n",
    "Workflow to assess patterns of interaction between different clusters.\n",
    "For every spot within each cluster we register the identity of the 4 nearest neighbors (NN) (with a distance less than a threshold to said spot). By doing so we can then compute - for each cluster - the fraction of NNs that belong to each respective cluster. By permuting the cluster labels, a null distribution can be generated to put the observed values into context.\n",
    "<hr>"
   ]
  },
  {
   "cell_type": "code",
   "execution_count": 102,
   "metadata": {},
   "outputs": [
    {
     "name": "stdout",
     "output_type": "stream",
     "text": [
      "The autoreload extension is already loaded. To reload it, use:\n",
      "  %reload_ext autoreload\n"
     ]
    }
   ],
   "source": [
    "%load_ext autoreload\n",
    "%autoreload 2\n"
   ]
  },
  {
   "cell_type": "markdown",
   "metadata": {},
   "source": [
    "## Import packages and set global variables\n",
    "\n",
    "`K` is the number of NNs to use and `EPS_FACTOR` is used to compute the distance threshold, the larger the value the large the allowed distance will be. For 2K arrays,`1.3` has provided good results."
   ]
  },
  {
   "cell_type": "code",
   "execution_count": 6,
   "metadata": {},
   "outputs": [],
   "source": [
    "import pandas as pd\n",
    "import numpy as np\n",
    "from scipy.spatial import KDTree\n",
    "import matplotlib.pyplot as plt\n",
    "import glob\n",
    "import os.path as osp\n",
    "from typing import *"
   ]
  },
  {
   "cell_type": "code",
   "execution_count": 7,
   "metadata": {},
   "outputs": [],
   "source": [
    "K = 4\n",
    "EPS_FACTOR = 1.3 "
   ]
  },
  {
   "cell_type": "markdown",
   "metadata": {},
   "source": [
    "### Data-related variables"
   ]
  },
  {
   "cell_type": "code",
   "execution_count": 8,
   "metadata": {},
   "outputs": [],
   "source": [
    "# directory to load data from\n",
    "DATA_DIR = \"../rsc/cluster/\"\n",
    "# directory to save results to\n",
    "RES_DIR = \"../res/cluster/nbrs/\"\n",
    "# make results directory if not already exists\n",
    "if not osp.exist(RES_DIR):\n",
    "    from os import mkdir\n",
    "    mkdir(RES_DIR)\n",
    "    \n",
    "# get paths for data files\n",
    "pths = glob.glob(osp.join(DATA_DIR,\n",
    "                          \"*tsv\"))"
   ]
  },
  {
   "cell_type": "markdown",
   "metadata": {},
   "source": [
    "## Load data"
   ]
  },
  {
   "cell_type": "code",
   "execution_count": 16,
   "metadata": {},
   "outputs": [],
   "source": [
    "# load data from list of paths\n",
    "data = list()\n",
    "for pth in pths:\n",
    "    _tmp = pd.read_csv(pth,\n",
    "                       sep = \"\\t\",\n",
    "                       header = 0,\n",
    "                       index_col = 0,\n",
    "                      )\n",
    "    data.append(_tmp)"
   ]
  },
  {
   "cell_type": "code",
   "execution_count": 17,
   "metadata": {},
   "outputs": [],
   "source": [
    "def generate_stats(data : List[pd.DataFrame],\n",
    "                   cluster_label : str = \"cluster\",\n",
    "                   )->Dict[str,pd.DataFrame]:\n",
    "    \n",
    "    \"\"\"Generate NN stats\n",
    "    \n",
    "    Parameters:\n",
    "    ----------\n",
    "    \n",
    "    data : List[pd.DataFrame]\n",
    "        list of pandas data frame holding cluster\n",
    "        data. Assumes cluster labels are same across\n",
    "        whole data set.\n",
    "    cluster_label : str (cluster)\n",
    "        name of column holding cluster\n",
    "        information\n",
    "    \n",
    "    Returns:\n",
    "    -------\n",
    "    Dictionary with stats for each cluster\n",
    "    \n",
    "    \"\"\"\n",
    "\n",
    "    all_sample_stats = dict()\n",
    "    all_labels = list()\n",
    "\n",
    "    for _tmp in data:\n",
    "\n",
    "        _drop = np.isnan(_tmp[cluster_label].values)\n",
    "        _tmp = _tmp.iloc[~_drop,:]\n",
    "\n",
    "        _crd = _tmp[[\"new_x\",\"new_y\"]].values\n",
    "        _crd /= _crd.max()\n",
    "        _kd = KDTree(_crd)\n",
    "\n",
    "        ds,idxs = _kd.query(_crd, k =  2)\n",
    "        upper_bound = ds[:,1::].mean() * EPS_FACTOR  * 0.9\n",
    "\n",
    "        ds,idxs = _kd.query(_crd,\n",
    "                            k = K +1,\n",
    "                            distance_upper_bound = upper_bound)\n",
    "        ds = ds[:,1::]\n",
    "        idxs = idxs[:,1::]\n",
    "\n",
    "        uni_labels = np.unique(_tmp[cluster_label].values)\n",
    "        np.sort(uni_labels)\n",
    "\n",
    "        all_labels += uni_labels.tolist()\n",
    "\n",
    "        n_labels = uni_labels.shape[0]\n",
    "\n",
    "        tmp_labels = np.append(_tmp[cluster_label].values,\"none\")\n",
    "\n",
    "        for label in uni_labels:\n",
    "            if label not in all_sample_stats.keys():\n",
    "                all_sample_stats[label] = list()\n",
    "\n",
    "            pos = np.where(_tmp[cluster_label].values == label)[0]\n",
    "\n",
    "            nn_stats = np.zeros((pos.shape[0],\n",
    "                                 n_labels + 1,\n",
    "                                ))\n",
    "\n",
    "            nn_stats = pd.DataFrame(nn_stats,\n",
    "                                    columns = pd.Index(np.append(uni_labels,\"none\")\\\n",
    "                                                       .astype(str)),\n",
    "                               )\n",
    "\n",
    "            for k,p in enumerate(pos):\n",
    "                nbr_labels = tmp_labels[idxs[p,:]]\n",
    "                val,cnt = np.unique(nbr_labels,return_counts = True)\n",
    "                nn_stats.loc[k,val.astype(str)] = cnt\n",
    "\n",
    "            all_sample_stats[label].append(nn_stats.iloc[:,nn_stats.columns != \"none\"])\n",
    "\n",
    "    for k,v in all_sample_stats.items():\n",
    "        all_sample_stats[k] = pd.concat(v)\n",
    "        \n",
    "    return all_sample_stats"
   ]
  },
  {
   "cell_type": "markdown",
   "metadata": {},
   "source": [
    "## Analysis\n",
    "\n",
    "Compute NN stats for respective cluster across the whole data set and add reference from null distribution if specified."
   ]
  },
  {
   "cell_type": "code",
   "execution_count": 80,
   "metadata": {},
   "outputs": [],
   "source": [
    "# set to true to add null distribution\n",
    "# can take some time\n",
    "include_reference = True\n",
    "# name of column holding cluster information\n",
    "cluster_label = \"cluster\"\n",
    "\n",
    "# get stats for complete data set\n",
    "all_sample_stats = generate_stats(data,\n",
    "                                 cluster_label = cluster_label,\n",
    "                                 )\n",
    "\n",
    "# generate and compute null distribution\n",
    "if include_reference:\n",
    "    n_iter = 100\n",
    "    from copy import deepcopy\n",
    "    perm_stats = dict()\n",
    "\n",
    "    for k,d in all_sample_stats.items():\n",
    "        perm_stats[k] = np.zeros((n_iter,d.shape[1]))\n",
    "\n",
    "\n",
    "    for ii in range(n_iter):\n",
    "        print(\"\\rIteration {:2.0f}/{}\".format(ii+1,n_iter),end=\"\")\n",
    "        tmp_data = list()\n",
    "        for d in data:\n",
    "            perm_cidx = np.permutation(d.shape[0])\n",
    "            _tmp = deepcopy(d)\n",
    "            _tmp[cluster_label] = _tmp[cluster_label].values[perm_cidx]\n",
    "            tmp_data.append(_tmp)\n",
    "            \n",
    "        tmp_stats = generate_stats(tmp_data,\n",
    "                                  cluster_label = cluster_label,\n",
    "                                  )\n",
    "        for k,v in tmp_stats.items():\n",
    "            perm_stats[k][ii,:] = v.values.sum(axis=0)\n",
    "            perm_stats[k][ii,:] /= perm_stats[k][ii,:].sum()\n",
    "\n",
    "    for k,v in perm_stats.items():\n",
    "        perm_stats[k] = dict(mean = perm_stats[k].mean(axis = 0),\n",
    "                             std = perm_stats[k].std(axis= 0)\n",
    "                            )"
   ]
  },
  {
   "cell_type": "markdown",
   "metadata": {},
   "source": [
    "## Visualize results\n",
    "\n",
    "visualize the interaction analysis using bar-graphs, one graph per cluster. Bars represent the fraction of NNs that belong to each cluster, the \"self\" cluster is indicated with gray. If reference is specified to be included this will be shown with a black dashed line and magenta evelopes (2sd)."
   ]
  },
  {
   "cell_type": "code",
   "execution_count": 111,
   "metadata": {},
   "outputs": [
    {
     "data": {
      "image/png": "[encoded data removed]",
      "text/plain": [
       "<Figure size 864x720 with 6 Axes>"
      ]
     },
     "metadata": {},
     "output_type": "display_data"
    }
   ],
   "source": [
    "n_labels = len(all_sample_stats)\n",
    "uni_labels = list(all_sample_stats.keys())\n",
    "uni_labels.sort()\n",
    "\n",
    "n_rows = 2\n",
    "n_cols = int(np.ceil(n_labels / n_rows))\n",
    "\n",
    "width = 0.5\n",
    "\n",
    "fig,ax = plt.subplots(n_rows,\n",
    "                      n_cols,\n",
    "                      figsize = (n_cols * 4,\n",
    "                                 n_rows * 5),\n",
    "                      facecolor = \"white\",\n",
    "                      sharey = True,\n",
    "                     )\n",
    "\n",
    "ax = ax.flatten()\n",
    "#cmap = plt.cm.rainbow\n",
    "\n",
    "cmap = {0: \"#CDCD00\",\n",
    "        1 : \"#0327CD\",\n",
    "        2 : \"#CD1C00\",\n",
    "        3 : \"#01C5CD\",\n",
    "        4 : \"#FF7F00\",\n",
    "        5 : \"#008B00\",\n",
    "       }\n",
    "\n",
    "for k,label in enumerate(uni_labels):\n",
    "    val = all_sample_stats[label].sum(axis=0)\n",
    "    \n",
    "    val /= val.sum()\n",
    "    \n",
    "    xs = np.arange(n_labels)\n",
    "    bar = ax[k].bar(xs,\n",
    "                    val,\n",
    "                    edgecolor = \"black\",\n",
    "                    facecolor =\"lightgray\",\n",
    "                   width = width,\n",
    "                   )\n",
    "\n",
    "    \n",
    "    for n,(p,l) in enumerate(zip(bar.patches,uni_labels)):\n",
    "        if l != label:\n",
    "            if l in cmap.keys():\n",
    "                p.set_facecolor(cmap[l])\n",
    "            else:\n",
    "                p.set_facecolor(plt.cm.rainbow(n / n_labels))\n",
    "        else:\n",
    "            p.set_edgecolor(\"red\")\n",
    "            p.set_linestyle(\"dashed\")\n",
    "            \n",
    "            \n",
    "    if include_reference:\n",
    "        for j in range(xs.shape[0]):\n",
    "            x_vals = (xs[j] - width / 2, xs[j] + width / 2)\n",
    "            y_vals = np.array((perm_stats[k][\"mean\"][j],\n",
    "                               perm_stats[k][\"mean\"][j]))\n",
    "\n",
    "            ax[k].fill_between(x_vals,\n",
    "                               y_vals - 2*perm_stats[k][\"std\"][j],\n",
    "                               y_vals + 2*perm_stats[k][\"std\"][j],\n",
    "                                color = \"magenta\",\n",
    "                                zorder = 10,\n",
    "                               alpha = 0.4,\n",
    "                       )\n",
    "\n",
    "            ax[k].plot(x_vals,\n",
    "                       y_vals,\n",
    "                       color = \"black\",\n",
    "                       linestyle = \"dashed\",\n",
    "                       zorder = 11,\n",
    "                        )\n",
    "    \n",
    "    ax[k].set_xticks(xs)\n",
    "    ax[k].set_xticklabels([\"{}\".format(x) for x in uni_labels],\n",
    "                          rotation = 0,\n",
    "                          fontsize = 18)\n",
    "    ax[k].set_title(\"Cluster {}\".format(label),fontsize = 25)\n",
    "    ax[k].set_xlabel(\"Cluster\",fontsize = 20)\n",
    "    \n",
    "    if k % n_cols == 0:\n",
    "        ax[k].set_ylabel(\"Fraction of {} nearest nbr\".format(K),\n",
    "                        fontsize = 20,\n",
    "                        )\n",
    "\n",
    "fig.tight_layout()\n",
    "fig.savefig(osp.join(RES_DIR,\"clu-nbr-stats.png\"),\n",
    "            dpi = 300)\n",
    "plt.show()"
   ]
  }
 ],
 "metadata": {
  "kernelspec": {
   "display_name": "Python 3",
   "language": "python",
   "name": "python3"
  },
  "language_info": {
   "codemirror_mode": {
    "name": "ipython",
    "version": 3
   },
   "file_extension": ".py",
   "mimetype": "text/x-python",
   "name": "python",
   "nbconvert_exporter": "python",
   "pygments_lexer": "ipython3",
   "version": "3.7.5"
  }
 },
 "nbformat": 4,
 "nbformat_minor": 2
}
