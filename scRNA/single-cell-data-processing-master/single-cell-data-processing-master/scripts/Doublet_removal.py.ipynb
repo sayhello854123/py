{
 "cells": [
  {
   "cell_type": "markdown",
   "id": "7f7839f2",
   "metadata": {},
   "source": [
    "# Doublet removal\n",
    "Goal: ensure that each barcode corresponds to only one cell"
   ]
  },
  {
   "cell_type": "code",
   "execution_count": null,
   "id": "a18dc4a4",
   "metadata": {},
   "outputs": [],
   "source": [
    "import scanpy as sc\n",
    "import os\n",
    "import scrublet as scr\n",
    "from wand.image import Image as WImage"
   ]
  },
  {
   "cell_type": "markdown",
   "id": "74fd0dde",
   "metadata": {},
   "source": [
    "## Import parameters from snakemake"
   ]
  },
  {
   "cell_type": "code",
   "execution_count": null,
   "id": "3dbc3b94",
   "metadata": {},
   "outputs": [],
   "source": [
    "sample = snakemake.wildcards.samples\n",
    "scrub_threshold = snakemake.params.scrub_threshold"
   ]
  },
  {
   "cell_type": "code",
   "execution_count": null,
   "id": "421af7e4",
   "metadata": {},
   "outputs": [],
   "source": [
    "sc.settings.autosave = True\n",
    "sc.settings.set_figure_params(dpi=80)\n",
    "figdir = f\"4_Doublets/{sample}\"\n",
    "sc.settings.figdir = figdir\n",
    "os.makedirs(figdir, exist_ok=True)"
   ]
  },
  {
   "cell_type": "markdown",
   "id": "0b76fb3d",
   "metadata": {},
   "source": [
    "## 1. Load data"
   ]
  },
  {
   "cell_type": "code",
   "execution_count": null,
   "id": "c394dc39",
   "metadata": {},
   "outputs": [],
   "source": [
    "adata = sc.read_h5ad(f\"3_QC/{sample}_QC.h5ad\")"
   ]
  },
  {
   "cell_type": "markdown",
   "id": "1af48c43",
   "metadata": {},
   "source": [
    "## 2. Calculate doublet score for each cell"
   ]
  },
  {
   "cell_type": "code",
   "execution_count": null,
   "id": "6483c063",
   "metadata": {},
   "outputs": [],
   "source": [
    "scrub = scr.Scrublet(adata.raw.X)\n",
    "adata.obs['doublet_scores'], adata.obs['predicted_doublets'] = scrub.scrub_doublets()\n",
    "\n",
    "if scrub_threshold:\n",
    "    adata.obs['predicted_doublets'] = scrub.call_doublets(threshold= scrub_threshold)\n",
    "    print(f\"Using manually set threshold: {scrub_threshold}\")\n",
    "histogram, axis = scrub.plot_histogram()\n",
    "\n",
    "\n",
    "num_predicted_doublets = sum(adata.obs['predicted_doublets'])\n",
    "print(f\"Predicted {num_predicted_doublets} doublets\")\n",
    "\n",
    "histogram.savefig(f\"{figdir}/histogram_{sample}_doublets.pdf\")\n",
    "img = WImage(filename=f\"{figdir}/histogram_{sample}_doublets.pdf\")\n",
    "img"
   ]
  },
  {
   "cell_type": "markdown",
   "id": "04bdc389",
   "metadata": {},
   "source": [
    "The histogram should show a bimodal distribution and the threshold shown in the \"simulated doublets\" plot should be at the minimum between the two modes. "
   ]
  },
  {
   "cell_type": "code",
   "execution_count": null,
   "id": "9d337ece",
   "metadata": {},
   "outputs": [],
   "source": [
    "# add in column with singlet/doublet instead of True/False\n",
    "adata.obs['doublet_info'] = adata.obs[\"predicted_doublets\"].astype(str)"
   ]
  },
  {
   "cell_type": "markdown",
   "id": "11764ec4",
   "metadata": {},
   "source": [
    "## Plot number of detected genes in doublets vs singlets\n",
    "It's expected that doublets/multiplets show more detected genes than a single cell  \n",
    "True: doublets  \n",
    "False: singlets"
   ]
  },
  {
   "cell_type": "code",
   "execution_count": null,
   "id": "669981d9",
   "metadata": {},
   "outputs": [],
   "source": [
    "sc.pl.violin(adata, 'n_genes_by_counts',\n",
    "             jitter=0.4, groupby = 'doublet_info', rotation=45,\n",
    "            save = f\"_{sample}_ngenes_by_counts_doublets.pdf\")\n",
    "\n",
    "img = WImage(filename=f\"{figdir}/violin_{sample}_ngenes_by_counts_doublets.pdf\")\n",
    "img"
   ]
  },
  {
   "cell_type": "markdown",
   "id": "ae28d8bb",
   "metadata": {},
   "source": [
    "## Plot predicted doublets and doublet scores"
   ]
  },
  {
   "cell_type": "code",
   "execution_count": null,
   "id": "57a30901",
   "metadata": {},
   "outputs": [],
   "source": [
    "scrub.set_embedding('UMAP', scr.get_umap(scrub.manifold_obs_, 10, min_dist=0.3))\n",
    "UMAP, axis = scrub.plot_embedding('UMAP', order_points=True);\n",
    "\n",
    "UMAP.savefig(f\"{figdir}/{sample}_doublets.pdf\")\n",
    "\n",
    "img = WImage(filename=f\"{figdir}/{sample}_doublets.pdf\")\n",
    "img"
   ]
  },
  {
   "cell_type": "code",
   "execution_count": null,
   "id": "e21126dd",
   "metadata": {},
   "outputs": [],
   "source": [
    "# also revert back to the raw counts as the main matrix in adata\n",
    "adata = adata.raw.to_adata() \n",
    "\n",
    "adata = adata[adata.obs['doublet_info'] == 'False',:]\n",
    "print(adata.shape)"
   ]
  },
  {
   "cell_type": "markdown",
   "id": "ac0a2671",
   "metadata": {},
   "source": [
    "## Remove predicted doublets from dataset and  save"
   ]
  },
  {
   "cell_type": "code",
   "execution_count": null,
   "id": "dae13d41",
   "metadata": {},
   "outputs": [],
   "source": [
    "save_file = f'4_Doublets/{sample}_QC_doublets.h5ad'\n",
    "adata.write_h5ad(save_file)"
   ]
  }
 ],
 "metadata": {
  "kernelspec": {
   "display_name": "Python 3",
   "language": "python",
   "name": "python3"
  },
  "language_info": {
   "codemirror_mode": {
    "name": "ipython",
    "version": 3
   },
   "file_extension": ".py",
   "mimetype": "text/x-python",
   "name": "python",
   "nbconvert_exporter": "python",
   "pygments_lexer": "ipython3",
   "version": "3.8.5"
  }
 },
 "nbformat": 4,
 "nbformat_minor": 5
}
