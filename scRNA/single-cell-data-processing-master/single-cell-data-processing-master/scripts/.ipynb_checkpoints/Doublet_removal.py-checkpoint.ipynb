{
 "cells": [
  {
   "cell_type": "markdown",
   "id": "5af98fef",
   "metadata": {},
   "source": [
    "# Doublet removal\n",
    "Goal: ensure that each barcode corresponds to only one cell"
   ]
  },
  {
   "cell_type": "code",
   "execution_count": null,
   "id": "1c92b0e7",
   "metadata": {},
   "outputs": [],
   "source": [
    "import scanpy as sc\n",
    "import os\n",
    "import scrublet as scr\n",
    "from wand.image import Image as WImage"
   ]
  },
  {
   "cell_type": "markdown",
   "id": "f0b66619",
   "metadata": {},
   "source": [
    "## Import parameters from snakemake"
   ]
  },
  {
   "cell_type": "code",
   "execution_count": null,
   "id": "9e046d6a",
   "metadata": {},
   "outputs": [],
   "source": [
    "sample = snakemake.wildcards.samples\n",
    "scrub_threshold = snakemake.params.scrub_threshold"
   ]
  },
  {
   "cell_type": "code",
   "execution_count": null,
   "id": "21ba563d",
   "metadata": {},
   "outputs": [],
   "source": [
    "sc.settings.autosave = True\n",
    "sc.settings.set_figure_params(dpi=80)\n",
    "figdir = f\"4_Doublets/{sample}\"\n",
    "sc.settings.figdir = figdir\n",
    "os.makedirs(figdir, exist_ok=True)"
   ]
  },
  {
   "cell_type": "markdown",
   "id": "c336fbb3",
   "metadata": {},
   "source": [
    "## 1. Load data"
   ]
  },
  {
   "cell_type": "code",
   "execution_count": null,
   "id": "0ce5a1fa",
   "metadata": {},
   "outputs": [],
   "source": [
    "adata = sc.read_h5ad(f\"3_QC/{sample}_QC.h5ad\")"
   ]
  },
  {
   "cell_type": "markdown",
   "id": "cee175e9",
   "metadata": {},
   "source": [
    "## 2. Calculate doublet score for each cell"
   ]
  },
  {
   "cell_type": "code",
   "execution_count": null,
   "id": "e7d8d6ab",
   "metadata": {},
   "outputs": [],
   "source": [
    "scrub = scr.Scrublet(adata.raw.X)\n",
    "adata.obs['doublet_scores'], adata.obs['predicted_doublets'] = scrub.scrub_doublets()\n",
    "\n",
    "if scrub_threshold:\n",
    "    adata.obs['predicted_doublets'] = scrub.call_doublets(threshold= scrub_threshold)\n",
    "    print(f\"Using manually set threshold: {scrub_threshold}\")\n",
    "histogram, axis = scrub.plot_histogram()\n",
    "\n",
    "\n",
    "num_predicted_doublets = sum(adata.obs['predicted_doublets'])\n",
    "print(f\"Predicted {num_predicted_doublets} doublets\")\n",
    "\n",
    "histogram.savefig(f\"{figdir}/histogram_{sample}_doublets.pdf\")\n",
    "img = WImage(filename=f\"{figdir}/histogram_{sample}_doublets.pdf\")\n",
    "img"
   ]
  },
  {
   "cell_type": "markdown",
   "id": "2a8ae9f1",
   "metadata": {},
   "source": [
    "The histogram should show a bimodal distribution and the threshold shown in the \"simulated doublets\" plot should be at the minimum between the two modes. "
   ]
  },
  {
   "cell_type": "code",
   "execution_count": null,
   "id": "f0be79cd",
   "metadata": {},
   "outputs": [],
   "source": [
    "# add in column with singlet/doublet instead of True/False\n",
    "adata.obs['doublet_info'] = adata.obs[\"predicted_doublets\"].astype(str)"
   ]
  },
  {
   "cell_type": "markdown",
   "id": "40b3a203",
   "metadata": {},
   "source": [
    "## Plot number of detected genes in doublets vs singlets\n",
    "It's expected that doublets/multiplets show more detected genes than a single cell  \n",
    "True: doublets  \n",
    "False: singlets"
   ]
  },
  {
   "cell_type": "code",
   "execution_count": null,
   "id": "bbaa5aa4",
   "metadata": {},
   "outputs": [],
   "source": [
    "sc.pl.violin(adata, 'n_genes_by_counts',\n",
    "             jitter=0.4, groupby = 'doublet_info', rotation=45,\n",
    "            save = f\"_{sample}_ngenes_by_counts_doublets.pdf\")\n",
    "\n",
    "img = WImage(filename=f\"{figdir}/violin_{sample}_ngenes_by_counts_doublets.pdf\")\n",
    "img"
   ]
  },
  {
   "cell_type": "markdown",
   "id": "39dd23d9",
   "metadata": {},
   "source": [
    "## Plot predicted doublets and doublet scores"
   ]
  },
  {
   "cell_type": "code",
   "execution_count": null,
   "id": "ce882d6b",
   "metadata": {},
   "outputs": [],
   "source": [
    "scrub.set_embedding('UMAP', scr.get_umap(scrub.manifold_obs_, 10, min_dist=0.3))\n",
    "UMAP, axis = scrub.plot_embedding('UMAP', order_points=True);\n",
    "\n",
    "UMAP.savefig(f\"{figdir}/{sample}_doublets.pdf\")\n",
    "\n",
    "img = WImage(filename=f\"{figdir}/{sample}_doublets.pdf\")\n",
    "img"
   ]
  },
  {
   "cell_type": "code",
   "execution_count": null,
   "id": "30ac26b9",
   "metadata": {},
   "outputs": [],
   "source": [
    "# also revert back to the raw counts as the main matrix in adata\n",
    "adata = adata.raw.to_adata() \n",
    "\n",
    "adata = adata[adata.obs['doublet_info'] == 'False',:]\n",
    "print(adata.shape)"
   ]
  },
  {
   "cell_type": "markdown",
   "id": "b3a63e0f",
   "metadata": {},
   "source": [
    "## Remove predicted doublets from dataset and  save"
   ]
  },
  {
   "cell_type": "code",
   "execution_count": null,
   "id": "ea2bfa85",
   "metadata": {},
   "outputs": [],
   "source": [
    "save_file = f'4_Doublets/{sample}_QC_doublets.h5ad'\n",
    "adata.write_h5ad(save_file)"
   ]
  }
 ],
 "metadata": {
  "kernelspec": {
   "display_name": "Python 3",
   "language": "python",
   "name": "python3"
  },
  "language_info": {
   "codemirror_mode": {
    "name": "ipython",
    "version": 3
   },
   "file_extension": ".py",
   "mimetype": "text/x-python",
   "name": "python",
   "nbconvert_exporter": "python",
   "pygments_lexer": "ipython3",
   "version": "3.6.11"
  }
 },
 "nbformat": 4,
 "nbformat_minor": 5
}
