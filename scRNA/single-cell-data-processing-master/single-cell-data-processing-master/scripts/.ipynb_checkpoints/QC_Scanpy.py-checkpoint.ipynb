{
 "cells": [
  {
   "cell_type": "markdown",
   "id": "a2129b24",
   "metadata": {},
   "source": [
    "# Quality control"
   ]
  },
  {
   "cell_type": "markdown",
   "id": "4005ea04",
   "metadata": {},
   "source": [
    "Goal: filter data to contain only true high quality cells  \n",
    "Filter based on mitochondrial RNA, number of detected genes and number of total UMIs\n",
    "\n",
    "Based on this guide: <https://nbisweden.github.io/workshop-scRNAseq/labs/compiled/scanpy/scanpy_01_qc.html>"
   ]
  },
  {
   "cell_type": "code",
   "execution_count": null,
   "id": "721aea82",
   "metadata": {},
   "outputs": [],
   "source": [
    "import numpy as np\n",
    "import pandas as pd\n",
    "import scanpy as sc\n",
    "import os\n",
    "from wand.image import Image as WImage"
   ]
  },
  {
   "cell_type": "code",
   "execution_count": null,
   "id": "b4bb9259",
   "metadata": {},
   "outputs": [],
   "source": [
    "os.makedirs('3_QC/', exist_ok=True)\n",
    "sc.settings.autosave = True\n",
    "sc.settings.set_figure_params(dpi=80)"
   ]
  },
  {
   "cell_type": "markdown",
   "id": "a1539ab4",
   "metadata": {},
   "source": [
    "## Import parameters from snakemake"
   ]
  },
  {
   "cell_type": "code",
   "execution_count": null,
   "id": "3a05175d",
   "metadata": {},
   "outputs": [],
   "source": [
    "mito_percentage = snakemake.params.mito_percentage\n",
    "number_genes_per_cell = snakemake.params.number_genes_per_cell\n",
    "number_UMI_per_cell = snakemake.params.number_UMI_per_cell\n",
    "sample = snakemake.wildcards.samples\n",
    "mito_genes_csv_ensembl = snakemake.input.mito_genes_ensembl\n",
    "mito_genes_csv_symbol = snakemake.input.mito_genes_symbol\n",
    "\n",
    "figdir = f\"3_QC/{sample}\"\n",
    "sc.settings.figdir = figdir\n",
    "\n",
    "print(f\"RUNNING SAMPLE: {sample}\")\n",
    "print(\"Running with the following filters:\")\n",
    "print(f\"Filter by number of genes per cell: {number_genes_per_cell}\")\n",
    "print(f\"Filter by number of UMI per cell: {number_UMI_per_cell}\")\n",
    "print(f\"Filter by % mitochondrial genes: {mito_percentage}\")"
   ]
  },
  {
   "cell_type": "markdown",
   "id": "5341ad5e",
   "metadata": {},
   "source": [
    "# 1. Create an object with sample data"
   ]
  },
  {
   "cell_type": "code",
   "execution_count": null,
   "id": "1efd82b9",
   "metadata": {},
   "outputs": [],
   "source": [
    "# Ambient RNA corrected data\n",
    "adata = sc.read_10x_mtx(f\"2_ambient_RNA_correction_data/{sample}\")\n",
    "adata.obs[\"sample\"] = sample\n",
    "\n",
    "# Filtered matrix from Cellranger Count\n",
    "raw_data = sc.read_10x_mtx(f\"{sample}/outs/filtered_feature_bc_matrix\")\n",
    "raw_data.obs[\"sample\"] = sample\n",
    "adata.raw = raw_data"
   ]
  },
  {
   "cell_type": "markdown",
   "id": "982c519d",
   "metadata": {},
   "source": [
    "#### Number of cells before filtering"
   ]
  },
  {
   "cell_type": "code",
   "execution_count": null,
   "id": "14e87e18",
   "metadata": {},
   "outputs": [],
   "source": [
    "print(adata.obs['sample'].value_counts())"
   ]
  },
  {
   "cell_type": "markdown",
   "id": "19ec1240",
   "metadata": {},
   "source": [
    "# 2. Quality control\n",
    "## 2.1 Calculate QC\n",
    "#### Load file with mitochondrial genes for our species\n",
    "Gene names in ensembl format and gene symbol so that the annotation file can have the gene names in either of the formats"
   ]
  },
  {
   "cell_type": "markdown",
   "id": "f4534db3",
   "metadata": {},
   "source": [
    "Get mitochondrial genes for our species from Ensembl"
   ]
  },
  {
   "cell_type": "code",
   "execution_count": null,
   "id": "ca46fa37",
   "metadata": {},
   "outputs": [],
   "source": [
    "mito_ensembl_ids = pd.read_csv(mito_genes_csv_ensembl, index_col = 0)\n",
    "mito_gene_ids = pd.read_csv(mito_genes_csv_symbol, index_col = 0)\n",
    "\n",
    "mito_ensembl_ids_joined = \"|\".join(mito_ensembl_ids['ensembl_gene_id'])\n",
    "mito_gene_ids_joined = \"|\".join(mito_gene_ids['external_gene_name'])\n",
    "\n",
    "condition = mito_ensembl_ids_joined + \"|\" + mito_gene_ids_joined\n",
    "adata.var['mt'] = adata.var_names.str.contains(condition) "
   ]
  },
  {
   "cell_type": "markdown",
   "id": "49555f29",
   "metadata": {},
   "source": [
    "#### Calculate percentage of mitochondrial genes per cell and add to metadata"
   ]
  },
  {
   "cell_type": "code",
   "execution_count": null,
   "id": "fe1bfbaa",
   "metadata": {},
   "outputs": [],
   "source": [
    "sc.pp.calculate_qc_metrics(adata, qc_vars=['mt'], percent_top=None, log1p=False, inplace=True)"
   ]
  },
  {
   "cell_type": "markdown",
   "id": "7f62b286",
   "metadata": {},
   "source": [
    "High proportions of reads mapped to mitochondrial genes are indicative of poor quality cells. This can be due to apoptosis or loss of cytoplasmatic RNA from lysed cells.\n",
    "It's important to remember that cells might have larger mitochondrial activity due to biology.  \n",
    "When defining filtering parameters it's important to keep the biology in mind. There is no defined set of optimal parameters.\n",
    "\n",
    "Scanpy's calculate_qc_metrics adds these fields to the data:\n",
    "\n",
    "- n_genes_by_counts: number of genes with positive counts in a cell\n",
    "- total_counts: total number of counts for a cell\n",
    "- total_counts_mt: total number of mitochondrial counts\n",
    "- pct_counts_mt: proportion ot total counts for a cell which are mitochondrial\n"
   ]
  },
  {
   "cell_type": "markdown",
   "id": "ccb38e70",
   "metadata": {},
   "source": [
    "#### Add fraction of counts in mitochondrial genes vs all genes (precent_mt2) and total counts per cell (n_counts)"
   ]
  },
  {
   "cell_type": "code",
   "execution_count": null,
   "id": "f6cb8ab4",
   "metadata": {},
   "outputs": [],
   "source": [
    "mito_genes = adata.var_names.str.endswith(tuple(mito_ensembl_ids['ensembl_gene_id']))\n",
    "# for each cell compute fraction of counts in mito genes vs. all genes\n",
    "# the `.A1` is only necessary as X is sparse (to transform to a dense array after summing)\n",
    "adata.obs['percent_mt2'] = np.sum(adata[:, mito_genes].X, axis=1).A1 / np.sum(adata.X, axis=1).A1\n",
    "# add the total counts per cell as observations-annotation to adata\n",
    "adata.obs['n_counts'] = adata.X.sum(axis=1).A1"
   ]
  },
  {
   "cell_type": "markdown",
   "id": "9548b7a6",
   "metadata": {},
   "source": [
    "## 2.2 Plot QC\n",
    "#### Before any filtering"
   ]
  },
  {
   "cell_type": "code",
   "execution_count": null,
   "id": "e3aac8da",
   "metadata": {},
   "outputs": [],
   "source": [
    "sc.pl.violin(adata, ['n_genes_by_counts', 'total_counts', 'pct_counts_mt'],\n",
    "             jitter=0.4, groupby = 'sample', rotation= 45,\n",
    "            save = f\"_{sample}_QC_before_filtering.pdf\")\n",
    "\n",
    "img = WImage(filename = f\"{figdir}/violin_{sample}_QC_before_filtering.pdf\")\n",
    "img"
   ]
  },
  {
   "cell_type": "markdown",
   "id": "db90afbc",
   "metadata": {},
   "source": [
    "Plots: each dot represents one cell\n",
    "- First plot: number of genes with positive counts in a cell\n",
    "- Second plot: total counts for a cell\n",
    "- Proportion of counts for a cell that are mitochondrial\n",
    "ex: if 40, that cell has 40% of mitochondrial counts\n",
    "----"
   ]
  },
  {
   "cell_type": "code",
   "execution_count": null,
   "id": "06ed1b69",
   "metadata": {},
   "outputs": [],
   "source": [
    "sc.pl.scatter(adata, x='total_counts', y='pct_counts_mt', color=\"pct_counts_mt\", \n",
    "              save = f\"_{sample}_pct_counts_mt_vs_total_counts.pdf\")\n",
    "img = WImage(filename = f\"{figdir}/scatter_{sample}_pct_counts_mt_vs_total_counts.pdf\")\n",
    "img"
   ]
  },
  {
   "cell_type": "markdown",
   "id": "e63ff0d4",
   "metadata": {},
   "source": [
    "Plot showing how many counts a cell has (x-axis) and the proportion of this counts that is mitochondrial (y-axis). The color represents the proportion of mitochondrial reads.\n",
    "\n",
    "---"
   ]
  },
  {
   "cell_type": "code",
   "execution_count": null,
   "id": "559e0b78",
   "metadata": {},
   "outputs": [],
   "source": [
    "sc.pl.scatter(adata, x='total_counts', y='n_genes_by_counts', color=\"pct_counts_mt\", \n",
    "              save = f\"_{sample}_ngenes_by_counts_vs_total_counts.pdf\")\n",
    "\n",
    "img = WImage(filename = f\"{figdir}/scatter_{sample}_ngenes_by_counts_vs_total_counts.pdf\")\n",
    "img"
   ]
  },
  {
   "cell_type": "markdown",
   "id": "96e21a53",
   "metadata": {},
   "source": [
    "Plot showing the total number of counts for a cell (x-axis) and the number of genes in that cell that have positive counts (y-axis). The color represents the proportion of mitochondrial reads."
   ]
  },
  {
   "cell_type": "markdown",
   "id": "842a6f97",
   "metadata": {},
   "source": [
    "# 3. Filtering\n",
    "## 3.1 Filter cell outliers based on number of reads (counts) and numbers of genes expressed.\n",
    "\n",
    "Keep cells with at least X number of genes per cell and minimum Y UMI counts per cell.  \n",
    "This is to filter measurement outliers, i.e. “unreliable” observations."
   ]
  },
  {
   "cell_type": "code",
   "execution_count": null,
   "id": "d70bca61",
   "metadata": {},
   "outputs": [],
   "source": [
    "print(\"Filtering parameters:\")\n",
    "print(f\"Minimum genes per cell: {number_genes_per_cell}\")\n",
    "print(f\"Minimum UMI counts per cell: {number_UMI_per_cell}\")"
   ]
  },
  {
   "cell_type": "code",
   "execution_count": null,
   "id": "cd43a3f4",
   "metadata": {},
   "outputs": [],
   "source": [
    "print(f\"Starting cells: {adata.n_obs}\")\n",
    "print(f\"Starting genes: {adata.n_vars}\")\n",
    "\n",
    "sc.pp.filter_cells(adata, min_genes=number_genes_per_cell)\n",
    "sc.pp.filter_cells(adata, min_counts=number_UMI_per_cell) \n",
    "\n",
    "print(f\"Remaining cells: {adata.n_obs}\")\n",
    "print(f\"Remaining genes: {adata.n_vars}\")"
   ]
  },
  {
   "cell_type": "markdown",
   "id": "03b532a2",
   "metadata": {},
   "source": [
    "#### Percentage of counts per gene:\n",
    "Show the top 20 highly expressed genes"
   ]
  },
  {
   "cell_type": "code",
   "execution_count": null,
   "id": "b2508fce",
   "metadata": {
    "scrolled": true
   },
   "outputs": [],
   "source": [
    "sc.pl.highest_expr_genes(adata, n_top=20, \n",
    "                         save = f\"_{sample}.pdf\")\n",
    "\n",
    "img = WImage(filename = f\"{figdir}/highest_expr_genes_{sample}.pdf\")\n",
    "img"
   ]
  },
  {
   "cell_type": "markdown",
   "id": "7e61ac42",
   "metadata": {},
   "source": [
    "## 3.2 Filter mitochondrial reads\n",
    "As said before, the tresholds used are data dependent and, therefore, there's no ideal value to use. A rule of thumb is that the bulk of the reads should be under the mitochondrial percentage threshold."
   ]
  },
  {
   "cell_type": "code",
   "execution_count": null,
   "id": "c9bb485d",
   "metadata": {},
   "outputs": [],
   "source": [
    "print(f\"Starting cells: {adata.n_obs}\")\n",
    "adata = adata[adata.obs['pct_counts_mt'] < mito_percentage, :]\n",
    "\n",
    "print(f\"Remaining cells: {adata.n_obs}\")"
   ]
  },
  {
   "cell_type": "markdown",
   "id": "962c1c39",
   "metadata": {},
   "source": [
    "## 3.3. Plot filtered QC"
   ]
  },
  {
   "cell_type": "code",
   "execution_count": null,
   "id": "c8f22d81",
   "metadata": {},
   "outputs": [],
   "source": [
    "sc.pl.violin(adata, ['n_genes_by_counts', 'total_counts', 'pct_counts_mt'],\n",
    "             jitter=0.4, groupby = 'sample', rotation = 45,\n",
    "            save = f\"_{sample}_QC_after_filtering.pdf\")\n",
    "\n",
    "img = WImage(filename=f\"{figdir}/violin_{sample}_QC_after_filtering.pdf\")\n",
    "img"
   ]
  },
  {
   "cell_type": "markdown",
   "id": "9aaaacdf",
   "metadata": {},
   "source": [
    "## Save data"
   ]
  },
  {
   "cell_type": "code",
   "execution_count": null,
   "id": "bd73e491",
   "metadata": {},
   "outputs": [],
   "source": [
    "save_file = f'3_QC/{sample}_QC.h5ad'\n",
    "adata.write_h5ad(save_file)"
   ]
  }
 ],
 "metadata": {
  "kernelspec": {
   "display_name": "single-cell-preprocessing",
   "language": "python",
   "name": "single-cell-preprocessing"
  },
  "language_info": {
   "codemirror_mode": {
    "name": "ipython",
    "version": 3
   },
   "file_extension": ".py",
   "mimetype": "text/x-python",
   "name": "python",
   "nbconvert_exporter": "python",
   "pygments_lexer": "ipython3",
   "version": "3.6.11"
  }
 },
 "nbformat": 4,
 "nbformat_minor": 5
}
