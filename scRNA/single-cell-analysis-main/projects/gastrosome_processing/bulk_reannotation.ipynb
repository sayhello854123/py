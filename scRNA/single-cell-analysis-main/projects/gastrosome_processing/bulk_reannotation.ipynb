{
 "cells": [
  {
   "cell_type": "markdown",
   "id": "81d00c20",
   "metadata": {},
   "source": [
    "# METASPACE bulk reannotation\n",
    "This notebook shows how to reannotate multiple METASPACE datasets against a new database.\n",
    "\n",
    "<div class=\"alert alert-info\"> \n",
    "\n",
    "You can also download this notebook [here](https://git.embl.de/mattausc/outer-spacem/-/raw/master/docs/examples/intracell_selection/bulk_reannotation.ipynb?inline=false) or as part of our [collection of SpaceM analysis notebooks](https://git.embl.de/grp-alexandrov/spacem-analysis-notebooks).\n",
    "\n",
    "</div>"
   ]
  },
  {
   "cell_type": "markdown",
   "id": "504b55f0",
   "metadata": {},
   "source": [
    "### Setup"
   ]
  },
  {
   "cell_type": "markdown",
   "id": "969cca9c",
   "metadata": {},
   "source": [
    "Before running this notebook, ensure that you have [set up your API key](https://metaspace2020.readthedocs.io/en/latest/content/examples/fetch-dataset-annotations.html#Connect-to-the-sm-server) for METASPACE!"
   ]
  },
  {
   "cell_type": "code",
   "execution_count": 1,
   "id": "0694ca7b",
   "metadata": {},
   "outputs": [],
   "source": [
    "from metaspace import SMInstance"
   ]
  },
  {
   "cell_type": "code",
   "execution_count": 2,
   "id": "ee06f190",
   "metadata": {},
   "outputs": [],
   "source": [
    "sm = SMInstance()"
   ]
  },
  {
   "cell_type": "code",
   "execution_count": 6,
   "id": "64421afd",
   "metadata": {},
   "outputs": [],
   "source": [
    "# IDs of datasets to reannotate\n",
    "\n",
    "datasets = [\n",
    "    \"2021-10-27_00h20m47s\", # Well 8\n",
    "    # \"2021-10-27_00h05m07s\" # Well 3\n",
    "] "
   ]
  },
  {
   "cell_type": "markdown",
   "id": "addc0418",
   "metadata": {},
   "source": [
    "If you want to reannotate all datasets within a project, you can also download the project's metadata as a CSV file:  \n",
    "\n",
    "![](project_export.png)\n"
   ]
  },
  {
   "cell_type": "markdown",
   "id": "d4d6a6d7",
   "metadata": {},
   "source": [
    "...which you can then import into this notebook to get the dataset ids:"
   ]
  },
  {
   "cell_type": "code",
   "execution_count": 7,
   "id": "15ac8647",
   "metadata": {
    "tags": []
   },
   "outputs": [],
   "source": [
    "# import pandas as pd\n",
    "\n",
    "# metadata = pd.read_csv(\"metaspace_datasets.csv\", skiprows=2)\n",
    "# metadata.head()"
   ]
  },
  {
   "cell_type": "code",
   "execution_count": 8,
   "id": "c0341ddf",
   "metadata": {},
   "outputs": [],
   "source": [
    "# datasets = metadata.datasetId.to_list()"
   ]
  },
  {
   "cell_type": "markdown",
   "id": "ab2f7661",
   "metadata": {},
   "source": [
    "### Selecting the database for reannotation"
   ]
  },
  {
   "cell_type": "markdown",
   "id": "a03fc33a-e8c0-4041-a2e6-a7879bd0a084",
   "metadata": {},
   "source": [
    "If you are unsure which ID corresponds to the database you want to reannotate against, you can determine it based on its name and version:"
   ]
  },
  {
   "cell_type": "code",
   "execution_count": 9,
   "id": "669fbc58-9bbf-449c-8df4-cff3078ef7f6",
   "metadata": {},
   "outputs": [],
   "source": [
    "# sm.database(name=\"Gastrosome_DrugW8_FeedingW3_intra_ions\", version=\"v1\").id"
   ]
  },
  {
   "cell_type": "markdown",
   "id": "1912648a-527f-4a8c-add7-649a0149da73",
   "metadata": {},
   "source": [
    "<div class=\"alert alert-info\"> \n",
    "\n",
    "**Note:** If this returns nothing this database/version does not exist!\n",
    "\n",
    "</div>\n",
    "\n",
    "Once you do have your database's ID, enter it here:"
   ]
  },
  {
   "cell_type": "code",
   "execution_count": 10,
   "id": "c1179362",
   "metadata": {},
   "outputs": [],
   "source": [
    "new_db_id = 532 # (Well8)\n",
    "# new_db_id = 531 # (Well3)"
   ]
  },
  {
   "cell_type": "markdown",
   "id": "7b8cd287",
   "metadata": {},
   "source": [
    "<div class=\"alert alert-info\"> \n",
    "\n",
    "**Note:** the dataset(s) will be reannotated against the new databases **in addition to the ones already annotated against.**\n",
    "\n",
    "</div>"
   ]
  },
  {
   "cell_type": "markdown",
   "id": "cd022f28",
   "metadata": {},
   "source": [
    "### Submitting datasets for reannotation"
   ]
  },
  {
   "cell_type": "code",
   "execution_count": 11,
   "id": "81f7a737",
   "metadata": {},
   "outputs": [
    {
     "name": "stdout",
     "output_type": "stream",
     "text": [
      "2021-28-09_Gastrosome_Slide6Drugs_Well8_150x150_a29ss25_DHBpos\n",
      "Adding new db...\n"
     ]
    }
   ],
   "source": [
    "for ds_id in datasets:\n",
    "    ds = sm.dataset(id=ds_id)\n",
    "    print(ds.name)\n",
    "    database_ids = [db[\"id\"] for db in ds.database_details]\n",
    "    database_ids\n",
    "    if new_db_id not in database_ids:\n",
    "        new_databases = database_ids + [new_db_id]\n",
    "        print(\"Adding new db...\")\n",
    "        sm.update_dataset_dbs(ds.id, new_databases, ds.adducts)\n",
    "    else:\n",
    "        print(\"Dataset has already been annotated against this database!\")"
   ]
  },
  {
   "cell_type": "markdown",
   "id": "8ab80216",
   "metadata": {},
   "source": [
    "Once METASPACE has finished reannotion of your datasets, open up SpaceM again, load the reannotated dataset and move to the Dataset Reprocessing step, where you will now be able to select the new database."
   ]
  }
 ],
 "metadata": {
  "interpreter": {
   "hash": "08a81da450176f68f0fd09394825ffa794b72fdb2e8c66741a66dd046756b15a"
  },
  "kernelspec": {
   "display_name": "Python 3 (ipykernel)",
   "language": "python",
   "name": "python3"
  },
  "language_info": {
   "codemirror_mode": {
    "name": "ipython",
    "version": 3
   },
   "file_extension": ".py",
   "mimetype": "text/x-python",
   "name": "python",
   "nbconvert_exporter": "python",
   "pygments_lexer": "ipython3",
   "version": "3.8.12"
  }
 },
 "nbformat": 4,
 "nbformat_minor": 5
}
