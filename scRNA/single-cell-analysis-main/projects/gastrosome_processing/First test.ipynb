{
 "cells": [
  {
   "cell_type": "code",
   "execution_count": 2,
   "id": "babac0f6-feb4-4186-9ba1-10ec81435e62",
   "metadata": {},
   "outputs": [
    {
     "name": "stdout",
     "output_type": "stream",
     "text": [
      "The autoreload extension is already loaded. To reload it, use:\n",
      "  %reload_ext autoreload\n"
     ]
    }
   ],
   "source": [
    "%load_ext autoreload\n",
    "%aimport outer_spacem\n",
    "\n",
    "%autoreload 1\n",
    "\n",
    "import pandas as pd\n",
    "import numpy as np\n",
    "from pathlib import Path\n",
    "import matplotlib.pyplot as plt\n",
    "import scanpy as sc\n",
    "import seaborn as sns\n",
    "\n",
    "import outer_spacem\n"
   ]
  },
  {
   "cell_type": "code",
   "execution_count": 3,
   "id": "681176b0",
   "metadata": {},
   "outputs": [],
   "source": [
    "normalized_dataset_path = \"/Users/alberto-mac/Documents/DA_ESPORTARE/LOCAL_EMBL_FILES/scratch/projects/gastrosome_processing/SpaceM_processing/Drug_W8/analysis/single_cell_analysis/spatiomolecular_adata.h5ad\""
   ]
  },
  {
   "cell_type": "code",
   "execution_count": 4,
   "id": "4ef43a6b",
   "metadata": {},
   "outputs": [],
   "source": [
    "adata = sc.read(normalized_dataset_path)"
   ]
  },
  {
   "cell_type": "code",
   "execution_count": 6,
   "id": "b8920555",
   "metadata": {},
   "outputs": [
    {
     "name": "stdout",
     "output_type": "stream",
     "text": [
      "             center_x    center_y  cell_area  cell_sampling_area  \\\n",
      "cell_id                                                            \n",
      "536       8046.662288  760.352012      12028              1199.0   \n",
      "552      11212.915186  708.304523       9904               494.0   \n",
      "561       9983.414241  741.709546      10308               377.0   \n",
      "584      10356.428328  733.052901       7032                10.0   \n",
      "590       7935.413853  793.607101       6872              1881.0   \n",
      "\n",
      "         cell_sampling_ratio  cell_nearest_am_distance  \\\n",
      "cell_id                                                  \n",
      "536                 0.099684                 78.560322   \n",
      "552                 0.049879                 92.561295   \n",
      "561                 0.036574                 77.092107   \n",
      "584                 0.001422                 76.293242   \n",
      "590                 0.273719                 38.828320   \n",
      "\n",
      "         cell_nearest_cell_distance  centroid-0    centroid-1  bbox-0  ...  \\\n",
      "cell_id                                                                ...   \n",
      "536                      108.414224  760.352012   8046.662288     627  ...   \n",
      "552                       65.877683  708.304523  11212.915186     649  ...   \n",
      "561                      113.506756  741.709546   9983.414241     655  ...   \n",
      "584                       77.197641  733.052901  10356.428328     681  ...   \n",
      "590                      116.112511  793.607101   7935.413853     695  ...   \n",
      "\n",
      "         min_intensity-MaskAnnotations  mean_intensity-MaskAnnotations  \\\n",
      "cell_id                                                                  \n",
      "536                                0.0                             0.0   \n",
      "552                                0.0                             0.0   \n",
      "561                                0.0                             0.0   \n",
      "584                                0.0                             0.0   \n",
      "590                                0.0                             0.0   \n",
      "\n",
      "         median_intensity-MaskAnnotations  sum_intensity-MaskAnnotations  \\\n",
      "cell_id                                                                    \n",
      "536                                   0.0                            0.0   \n",
      "552                                   0.0                            0.0   \n",
      "561                                   0.0                            0.0   \n",
      "584                                   0.0                            0.0   \n",
      "590                                   0.0                            0.0   \n",
      "\n",
      "         sampled_max_intensity-MaskAnnotations  \\\n",
      "cell_id                                          \n",
      "536                                        0.0   \n",
      "552                                        0.0   \n",
      "561                                        0.0   \n",
      "584                                        0.0   \n",
      "590                                        0.0   \n",
      "\n",
      "         sampled_min_intensity-MaskAnnotations  \\\n",
      "cell_id                                          \n",
      "536                                        0.0   \n",
      "552                                        0.0   \n",
      "561                                        0.0   \n",
      "584                                        0.0   \n",
      "590                                        0.0   \n",
      "\n",
      "         sampled_mean_intensity-MaskAnnotations  \\\n",
      "cell_id                                           \n",
      "536                                         0.0   \n",
      "552                                         0.0   \n",
      "561                                         0.0   \n",
      "584                                         0.0   \n",
      "590                                         0.0   \n",
      "\n",
      "         sampled_median_intensity-MaskAnnotations  \\\n",
      "cell_id                                             \n",
      "536                                           0.0   \n",
      "552                                           0.0   \n",
      "561                                           0.0   \n",
      "584                                           0.0   \n",
      "590                                           0.0   \n",
      "\n",
      "         sampled_sum_intensity-MaskAnnotations                     dataset  \n",
      "cell_id                                                                     \n",
      "536                                        0.0  Gastrosom   Slide6 Drug W8  \n",
      "552                                        0.0  Gastrosom   Slide6 Drug W8  \n",
      "561                                        0.0  Gastrosom   Slide6 Drug W8  \n",
      "584                                        0.0  Gastrosom   Slide6 Drug W8  \n",
      "590                                        0.0  Gastrosom   Slide6 Drug W8  \n",
      "\n",
      "[5 rows x 98 columns]\n"
     ]
    }
   ],
   "source": [
    "adata.layers\n",
    "print(adata.obs.head())"
   ]
  },
  {
   "cell_type": "code",
   "execution_count": 9,
   "id": "3b5d6bfe",
   "metadata": {},
   "outputs": [
    {
     "ename": "AttributeError",
     "evalue": "Can only use .cat accessor with a 'category' dtype",
     "output_type": "error",
     "traceback": [
      "\u001B[0;31m---------------------------------------------------------------------------\u001B[0m",
      "\u001B[0;31mAttributeError\u001B[0m                            Traceback (most recent call last)",
      "Input \u001B[0;32mIn [9]\u001B[0m, in \u001B[0;36m<module>\u001B[0;34m\u001B[0m\n\u001B[0;32m----> 1\u001B[0m \u001B[43msc\u001B[49m\u001B[38;5;241;43m.\u001B[39;49m\u001B[43mtl\u001B[49m\u001B[38;5;241;43m.\u001B[39;49m\u001B[43mrank_genes_groups\u001B[49m\u001B[43m(\u001B[49m\u001B[43madata\u001B[49m\u001B[43m,\u001B[49m\u001B[43m \u001B[49m\u001B[38;5;124;43m'\u001B[39;49m\u001B[38;5;124;43mmax_intensity-MaskAnnotations\u001B[39;49m\u001B[38;5;124;43m'\u001B[39;49m\u001B[43m,\u001B[49m\u001B[43m \u001B[49m\u001B[43mmethod\u001B[49m\u001B[38;5;241;43m=\u001B[39;49m\u001B[38;5;124;43m'\u001B[39;49m\u001B[38;5;124;43mwilcoxon\u001B[39;49m\u001B[38;5;124;43m'\u001B[39;49m\u001B[43m,\u001B[49m\u001B[43m \u001B[49m\u001B[43mkey_added\u001B[49m\u001B[43m \u001B[49m\u001B[38;5;241;43m=\u001B[39;49m\u001B[43m \u001B[49m\u001B[38;5;124;43m\"\u001B[39;49m\u001B[38;5;124;43mwilcoxon\u001B[39;49m\u001B[38;5;124;43m\"\u001B[39;49m\u001B[43m)\u001B[49m\n",
      "File \u001B[0;32m~/miniconda3/envs/outerSpacem/lib/python3.8/site-packages/scanpy/tools/_rank_genes_groups.py:590\u001B[0m, in \u001B[0;36mrank_genes_groups\u001B[0;34m(adata, groupby, use_raw, groups, reference, n_genes, rankby_abs, pts, key_added, copy, method, corr_method, tie_correct, layer, **kwds)\u001B[0m\n\u001B[1;32m    580\u001B[0m adata\u001B[38;5;241m.\u001B[39muns[key_added] \u001B[38;5;241m=\u001B[39m {}\n\u001B[1;32m    581\u001B[0m adata\u001B[38;5;241m.\u001B[39muns[key_added][\u001B[38;5;124m'\u001B[39m\u001B[38;5;124mparams\u001B[39m\u001B[38;5;124m'\u001B[39m] \u001B[38;5;241m=\u001B[39m \u001B[38;5;28mdict\u001B[39m(\n\u001B[1;32m    582\u001B[0m     groupby\u001B[38;5;241m=\u001B[39mgroupby,\n\u001B[1;32m    583\u001B[0m     reference\u001B[38;5;241m=\u001B[39mreference,\n\u001B[0;32m   (...)\u001B[0m\n\u001B[1;32m    587\u001B[0m     corr_method\u001B[38;5;241m=\u001B[39mcorr_method,\n\u001B[1;32m    588\u001B[0m )\n\u001B[0;32m--> 590\u001B[0m test_obj \u001B[38;5;241m=\u001B[39m \u001B[43m_RankGenes\u001B[49m\u001B[43m(\u001B[49m\u001B[43madata\u001B[49m\u001B[43m,\u001B[49m\u001B[43m \u001B[49m\u001B[43mgroups_order\u001B[49m\u001B[43m,\u001B[49m\u001B[43m \u001B[49m\u001B[43mgroupby\u001B[49m\u001B[43m,\u001B[49m\u001B[43m \u001B[49m\u001B[43mreference\u001B[49m\u001B[43m,\u001B[49m\u001B[43m \u001B[49m\u001B[43muse_raw\u001B[49m\u001B[43m,\u001B[49m\u001B[43m \u001B[49m\u001B[43mlayer\u001B[49m\u001B[43m,\u001B[49m\u001B[43m \u001B[49m\u001B[43mpts\u001B[49m\u001B[43m)\u001B[49m\n\u001B[1;32m    592\u001B[0m \u001B[38;5;28;01mif\u001B[39;00m check_nonnegative_integers(test_obj\u001B[38;5;241m.\u001B[39mX) \u001B[38;5;129;01mand\u001B[39;00m method \u001B[38;5;241m!=\u001B[39m \u001B[38;5;124m'\u001B[39m\u001B[38;5;124mlogreg\u001B[39m\u001B[38;5;124m'\u001B[39m:\n\u001B[1;32m    593\u001B[0m     logg\u001B[38;5;241m.\u001B[39mwarning(\n\u001B[1;32m    594\u001B[0m         \u001B[38;5;124m\"\u001B[39m\u001B[38;5;124mIt seems you use rank_genes_groups on the raw count data. \u001B[39m\u001B[38;5;124m\"\u001B[39m\n\u001B[1;32m    595\u001B[0m         \u001B[38;5;124m\"\u001B[39m\u001B[38;5;124mPlease logarithmize your data before calling rank_genes_groups.\u001B[39m\u001B[38;5;124m\"\u001B[39m\n\u001B[1;32m    596\u001B[0m     )\n",
      "File \u001B[0;32m~/miniconda3/envs/outerSpacem/lib/python3.8/site-packages/scanpy/tools/_rank_genes_groups.py:98\u001B[0m, in \u001B[0;36m_RankGenes.__init__\u001B[0;34m(self, adata, groups, groupby, reference, use_raw, layer, comp_pts)\u001B[0m\n\u001B[1;32m     95\u001B[0m \u001B[38;5;28;01melse\u001B[39;00m:\n\u001B[1;32m     96\u001B[0m     \u001B[38;5;28mself\u001B[39m\u001B[38;5;241m.\u001B[39mexpm1_func \u001B[38;5;241m=\u001B[39m np\u001B[38;5;241m.\u001B[39mexpm1\n\u001B[0;32m---> 98\u001B[0m \u001B[38;5;28mself\u001B[39m\u001B[38;5;241m.\u001B[39mgroups_order, \u001B[38;5;28mself\u001B[39m\u001B[38;5;241m.\u001B[39mgroups_masks \u001B[38;5;241m=\u001B[39m \u001B[43m_utils\u001B[49m\u001B[38;5;241;43m.\u001B[39;49m\u001B[43mselect_groups\u001B[49m\u001B[43m(\u001B[49m\n\u001B[1;32m     99\u001B[0m \u001B[43m    \u001B[49m\u001B[43madata\u001B[49m\u001B[43m,\u001B[49m\u001B[43m \u001B[49m\u001B[43mgroups\u001B[49m\u001B[43m,\u001B[49m\u001B[43m \u001B[49m\u001B[43mgroupby\u001B[49m\n\u001B[1;32m    100\u001B[0m \u001B[43m\u001B[49m\u001B[43m)\u001B[49m\n\u001B[1;32m    102\u001B[0m \u001B[38;5;66;03m# Singlet groups cause division by zero errors\u001B[39;00m\n\u001B[1;32m    103\u001B[0m invalid_groups_selected \u001B[38;5;241m=\u001B[39m \u001B[38;5;28mset\u001B[39m(\u001B[38;5;28mself\u001B[39m\u001B[38;5;241m.\u001B[39mgroups_order) \u001B[38;5;241m&\u001B[39m \u001B[38;5;28mset\u001B[39m(\n\u001B[1;32m    104\u001B[0m     adata\u001B[38;5;241m.\u001B[39mobs[groupby]\u001B[38;5;241m.\u001B[39mvalue_counts()\u001B[38;5;241m.\u001B[39mloc[\u001B[38;5;28;01mlambda\u001B[39;00m x: x \u001B[38;5;241m<\u001B[39m \u001B[38;5;241m2\u001B[39m]\u001B[38;5;241m.\u001B[39mindex\n\u001B[1;32m    105\u001B[0m )\n",
      "File \u001B[0;32m~/miniconda3/envs/outerSpacem/lib/python3.8/site-packages/scanpy/_utils/__init__.py:506\u001B[0m, in \u001B[0;36mselect_groups\u001B[0;34m(adata, groups_order_subset, key)\u001B[0m\n\u001B[1;32m    504\u001B[0m \u001B[38;5;28;01mdef\u001B[39;00m \u001B[38;5;21mselect_groups\u001B[39m(adata, groups_order_subset\u001B[38;5;241m=\u001B[39m\u001B[38;5;124m'\u001B[39m\u001B[38;5;124mall\u001B[39m\u001B[38;5;124m'\u001B[39m, key\u001B[38;5;241m=\u001B[39m\u001B[38;5;124m'\u001B[39m\u001B[38;5;124mgroups\u001B[39m\u001B[38;5;124m'\u001B[39m):\n\u001B[1;32m    505\u001B[0m     \u001B[38;5;124;03m\"\"\"Get subset of groups in adata.obs[key].\"\"\"\u001B[39;00m\n\u001B[0;32m--> 506\u001B[0m     groups_order \u001B[38;5;241m=\u001B[39m \u001B[43madata\u001B[49m\u001B[38;5;241;43m.\u001B[39;49m\u001B[43mobs\u001B[49m\u001B[43m[\u001B[49m\u001B[43mkey\u001B[49m\u001B[43m]\u001B[49m\u001B[38;5;241;43m.\u001B[39;49m\u001B[43mcat\u001B[49m\u001B[38;5;241m.\u001B[39mcategories\n\u001B[1;32m    507\u001B[0m     \u001B[38;5;28;01mif\u001B[39;00m key \u001B[38;5;241m+\u001B[39m \u001B[38;5;124m'\u001B[39m\u001B[38;5;124m_masks\u001B[39m\u001B[38;5;124m'\u001B[39m \u001B[38;5;129;01min\u001B[39;00m adata\u001B[38;5;241m.\u001B[39muns:\n\u001B[1;32m    508\u001B[0m         groups_masks \u001B[38;5;241m=\u001B[39m adata\u001B[38;5;241m.\u001B[39muns[key \u001B[38;5;241m+\u001B[39m \u001B[38;5;124m'\u001B[39m\u001B[38;5;124m_masks\u001B[39m\u001B[38;5;124m'\u001B[39m]\n",
      "File \u001B[0;32m~/miniconda3/envs/outerSpacem/lib/python3.8/site-packages/pandas/core/generic.py:5583\u001B[0m, in \u001B[0;36mNDFrame.__getattr__\u001B[0;34m(self, name)\u001B[0m\n\u001B[1;32m   5576\u001B[0m \u001B[38;5;28;01mif\u001B[39;00m (\n\u001B[1;32m   5577\u001B[0m     name \u001B[38;5;129;01mnot\u001B[39;00m \u001B[38;5;129;01min\u001B[39;00m \u001B[38;5;28mself\u001B[39m\u001B[38;5;241m.\u001B[39m_internal_names_set\n\u001B[1;32m   5578\u001B[0m     \u001B[38;5;129;01mand\u001B[39;00m name \u001B[38;5;129;01mnot\u001B[39;00m \u001B[38;5;129;01min\u001B[39;00m \u001B[38;5;28mself\u001B[39m\u001B[38;5;241m.\u001B[39m_metadata\n\u001B[1;32m   5579\u001B[0m     \u001B[38;5;129;01mand\u001B[39;00m name \u001B[38;5;129;01mnot\u001B[39;00m \u001B[38;5;129;01min\u001B[39;00m \u001B[38;5;28mself\u001B[39m\u001B[38;5;241m.\u001B[39m_accessors\n\u001B[1;32m   5580\u001B[0m     \u001B[38;5;129;01mand\u001B[39;00m \u001B[38;5;28mself\u001B[39m\u001B[38;5;241m.\u001B[39m_info_axis\u001B[38;5;241m.\u001B[39m_can_hold_identifiers_and_holds_name(name)\n\u001B[1;32m   5581\u001B[0m ):\n\u001B[1;32m   5582\u001B[0m     \u001B[38;5;28;01mreturn\u001B[39;00m \u001B[38;5;28mself\u001B[39m[name]\n\u001B[0;32m-> 5583\u001B[0m \u001B[38;5;28;01mreturn\u001B[39;00m \u001B[38;5;28;43mobject\u001B[39;49m\u001B[38;5;241;43m.\u001B[39;49m\u001B[38;5;21;43m__getattribute__\u001B[39;49m\u001B[43m(\u001B[49m\u001B[38;5;28;43mself\u001B[39;49m\u001B[43m,\u001B[49m\u001B[43m \u001B[49m\u001B[43mname\u001B[49m\u001B[43m)\u001B[49m\n",
      "File \u001B[0;32m~/miniconda3/envs/outerSpacem/lib/python3.8/site-packages/pandas/core/accessor.py:182\u001B[0m, in \u001B[0;36mCachedAccessor.__get__\u001B[0;34m(self, obj, cls)\u001B[0m\n\u001B[1;32m    179\u001B[0m \u001B[38;5;28;01mif\u001B[39;00m obj \u001B[38;5;129;01mis\u001B[39;00m \u001B[38;5;28;01mNone\u001B[39;00m:\n\u001B[1;32m    180\u001B[0m     \u001B[38;5;66;03m# we're accessing the attribute of the class, i.e., Dataset.geo\u001B[39;00m\n\u001B[1;32m    181\u001B[0m     \u001B[38;5;28;01mreturn\u001B[39;00m \u001B[38;5;28mself\u001B[39m\u001B[38;5;241m.\u001B[39m_accessor\n\u001B[0;32m--> 182\u001B[0m accessor_obj \u001B[38;5;241m=\u001B[39m \u001B[38;5;28;43mself\u001B[39;49m\u001B[38;5;241;43m.\u001B[39;49m\u001B[43m_accessor\u001B[49m\u001B[43m(\u001B[49m\u001B[43mobj\u001B[49m\u001B[43m)\u001B[49m\n\u001B[1;32m    183\u001B[0m \u001B[38;5;66;03m# Replace the property with the accessor object. Inspired by:\u001B[39;00m\n\u001B[1;32m    184\u001B[0m \u001B[38;5;66;03m# https://www.pydanny.com/cached-property.html\u001B[39;00m\n\u001B[1;32m    185\u001B[0m \u001B[38;5;66;03m# We need to use object.__setattr__ because we overwrite __setattr__ on\u001B[39;00m\n\u001B[1;32m    186\u001B[0m \u001B[38;5;66;03m# NDFrame\u001B[39;00m\n\u001B[1;32m    187\u001B[0m \u001B[38;5;28mobject\u001B[39m\u001B[38;5;241m.\u001B[39m\u001B[38;5;21m__setattr__\u001B[39m(obj, \u001B[38;5;28mself\u001B[39m\u001B[38;5;241m.\u001B[39m_name, accessor_obj)\n",
      "File \u001B[0;32m~/miniconda3/envs/outerSpacem/lib/python3.8/site-packages/pandas/core/arrays/categorical.py:2717\u001B[0m, in \u001B[0;36mCategoricalAccessor.__init__\u001B[0;34m(self, data)\u001B[0m\n\u001B[1;32m   2716\u001B[0m \u001B[38;5;28;01mdef\u001B[39;00m \u001B[38;5;21m__init__\u001B[39m(\u001B[38;5;28mself\u001B[39m, data):\n\u001B[0;32m-> 2717\u001B[0m     \u001B[38;5;28;43mself\u001B[39;49m\u001B[38;5;241;43m.\u001B[39;49m\u001B[43m_validate\u001B[49m\u001B[43m(\u001B[49m\u001B[43mdata\u001B[49m\u001B[43m)\u001B[49m\n\u001B[1;32m   2718\u001B[0m     \u001B[38;5;28mself\u001B[39m\u001B[38;5;241m.\u001B[39m_parent \u001B[38;5;241m=\u001B[39m data\u001B[38;5;241m.\u001B[39mvalues\n\u001B[1;32m   2719\u001B[0m     \u001B[38;5;28mself\u001B[39m\u001B[38;5;241m.\u001B[39m_index \u001B[38;5;241m=\u001B[39m data\u001B[38;5;241m.\u001B[39mindex\n",
      "File \u001B[0;32m~/miniconda3/envs/outerSpacem/lib/python3.8/site-packages/pandas/core/arrays/categorical.py:2726\u001B[0m, in \u001B[0;36mCategoricalAccessor._validate\u001B[0;34m(data)\u001B[0m\n\u001B[1;32m   2723\u001B[0m \u001B[38;5;129m@staticmethod\u001B[39m\n\u001B[1;32m   2724\u001B[0m \u001B[38;5;28;01mdef\u001B[39;00m \u001B[38;5;21m_validate\u001B[39m(data):\n\u001B[1;32m   2725\u001B[0m     \u001B[38;5;28;01mif\u001B[39;00m \u001B[38;5;129;01mnot\u001B[39;00m is_categorical_dtype(data\u001B[38;5;241m.\u001B[39mdtype):\n\u001B[0;32m-> 2726\u001B[0m         \u001B[38;5;28;01mraise\u001B[39;00m \u001B[38;5;167;01mAttributeError\u001B[39;00m(\u001B[38;5;124m\"\u001B[39m\u001B[38;5;124mCan only use .cat accessor with a \u001B[39m\u001B[38;5;124m'\u001B[39m\u001B[38;5;124mcategory\u001B[39m\u001B[38;5;124m'\u001B[39m\u001B[38;5;124m dtype\u001B[39m\u001B[38;5;124m\"\u001B[39m)\n",
      "\u001B[0;31mAttributeError\u001B[0m: Can only use .cat accessor with a 'category' dtype"
     ]
    }
   ],
   "source": [
    "sc.tl.rank_genes_groups(adata, 'max_intensity-MaskAnnotations', method='wilcoxon', key_added = \"wilcoxon\", gene_symbols=\"var_names\")"
   ]
  },
  {
   "cell_type": "code",
   "execution_count": null,
   "id": "64b8fb9a",
   "metadata": {},
   "outputs": [],
   "source": []
  }
 ],
 "metadata": {
  "kernelspec": {
   "display_name": "Python 3 (ipykernel)",
   "language": "python",
   "name": "python3"
  },
  "language_info": {
   "codemirror_mode": {
    "name": "ipython",
    "version": 3
   },
   "file_extension": ".py",
   "mimetype": "text/x-python",
   "name": "python",
   "nbconvert_exporter": "python",
   "pygments_lexer": "ipython3",
   "version": "3.8.12"
  }
 },
 "nbformat": 4,
 "nbformat_minor": 5
}