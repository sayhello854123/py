{
 "cells": [
  {
   "cell_type": "code",
   "execution_count": 1,
   "metadata": {},
   "outputs": [],
   "source": [
    "import pandas as pd\n",
    "import numpy as np\n",
    "from pathlib import Path\n",
    "from metaspace import SMInstance\n",
    "\n",
    "from outer_spacem.io import download_all_annotation_images_to_zarr"
   ]
  },
  {
   "cell_type": "code",
   "execution_count": 2,
   "metadata": {},
   "outputs": [],
   "source": [
    "%load_ext autoreload\n",
    "%aimport outer_spacem\n",
    "\n",
    "%autoreload 1"
   ]
  },
  {
   "cell_type": "markdown",
   "metadata": {},
   "source": [
    "# Pixel analysis part 1\n",
    "# Download datasets from Metaspace"
   ]
  },
  {
   "cell_type": "markdown",
   "metadata": {},
   "source": [
    "## Set paths\n",
    "\n",
    "### Input\n",
    "`metadata_path`: metadata table (I prefer downloaded from Metaspace)  \n",
    "Needs to have the following columns:  \n",
    "`datasetId` - Metaspace id  \n",
    "`datasetName`\t- name of the dataset  \n",
    "\n",
    "All other columns are optional, generally useful to have \"condition\" column or something similar used for comparison in the next steps of analysis  \n",
    "\n",
    "Script will add to the metadata table additional column \"data_file\" and save updated metadata to the analysis directory at `metadata_save_path`\n",
    "\n",
    "### Output\n",
    "`data_dir`: general root dir for storing data, including downloaded Metaspace datasets and plots  \n",
    "`metaspace_data_dir`: directory, where ion images and metadata will be stored  \n",
    "`metadata_save_path`: metadata table with new columns for file paths \n",
    "`plots_path`: directory for plots  (ion images, cell masks, plots from scanpy analysis)"
   ]
  },
  {
   "cell_type": "code",
   "execution_count": 6,
   "metadata": {},
   "outputs": [
    {
     "name": "stdout",
     "output_type": "stream",
     "text": [
      "{'id': '2021-10-27_00h20m47s', 'name': '2021-28-09_Gastrosome_Slide6Drugs_Well8_150x150_a29ss25_DHBpos', 'uploadDT': '2021-10-26T22:20:47.944Z', 'submitter': {'id': '5727e89e-e1dd-11e8-9d75-b7197ec46d47', 'name': 'Mohammed Shahraz'}, 'group': {'id': '5727e852-e1dd-11e8-9d75-5fefa7059e48', 'name': 'European Molecular Biology Laboratory', 'shortName': '♡EMBL♡'}, 'principalInvestigator': None, 'projects': [{'id': 'a54d9c64-2f40-11eb-96db-9f8940a662c3', 'name': '2021-11-25_microglia_Gastrosome_Peri', 'publicationStatus': 'UNPUBLISHED'}], 'polarity': 'POSITIVE', 'ionisationSource': 'MALDI', 'analyzer': {'type': 'Orbitrap', 'resolvingPower': 98994.94936611666}, 'organism': 'Homo sapiens (human) | Mus musculus (mouse)', 'organismPart': 'Cells', 'condition': 'Wildtype ', 'growthConditions': 'N/A', 'maldiMatrix': 'DHB', 'configJson': '{\"image_generation\":{\"n_levels\":30,\"ppm\":3,\"min_px\":1},\"fdr\":{\"decoy_sample_size\":20},\"analysis_version\":1,\"isotope_generation\":{\"n_peaks\":4,\"charge\":1,\"isocalc_sigma\":0.001238,\"adducts\":[\"+H\",\"+Na\",\"+K\"],\"neutral_losses\":[],\"chem_mods\":[],\"instrument\":\"Orbitrap\"},\"database_ids\":[19,22,26,38]}', 'metadataJson': '{\"Data_Type\":\"Imaging MS\",\"Sample_Information\":{\"Condition\":\"Wildtype \",\"Organism\":\"Homo sapiens (human) | Mus musculus (mouse)\",\"Organism_Part\":\"Cells\",\"Sample_Growth_Conditions\":\"N/A\"},\"Sample_Preparation\":{\"MALDI_Matrix\":\"DHB\",\"Tissue_Modification\":\"N/A\",\"Sample_Stabilisation\":\"Paraformaldehyde fixed\",\"MALDI_Matrix_Application\":\"TM sprayer\",\"Solvent\":\"70% ACN\"},\"MS_Analysis\":{\"Polarity\":\"Positive\",\"Ionisation_Source\":\"MALDI\",\"Analyzer\":\"Orbitrap\",\"Detector_Resolving_Power\":{\"Resolving_Power\":140000,\"mz\":200},\"Pixel_Size\":{\"Xaxis\":25,\"Yaxis\":25}},\"Additional_Information\":{\"Supplementary\":\"DHB - 0.7 7 PASSES 15MGML\\\\nOptical image channels: gray = Annotations\\\\n\"}}', 'isPublic': False, 'databases': [{'id': 19, 'name': 'ChEBI', 'version': '2018-01', 'isPublic': True, 'archived': False}, {'id': 22, 'name': 'HMDB', 'version': 'v4', 'isPublic': True, 'archived': False}, {'id': 26, 'name': 'SwissLipids', 'version': '2018-02-02', 'isPublic': True, 'archived': False}, {'id': 38, 'name': 'CoreMetabolome', 'version': 'v3', 'isPublic': True, 'archived': False}], 'adducts': ['+H', '+Na', '+K'], 'acquisitionGeometry': 'null', 'metadataType': 'Imaging MS', 'status': 'FINISHED', 'inputPath': 's3a://sm-engine-upload/c3b3bb8a-3598-40ca-aa9f-8ad12396a72f'}\n"
     ]
    }
   ],
   "source": [
    "username = \"alberto.bailoni@embl.de\"\n",
    "api_key=\"O2rVI8WeHXRL\"\n",
    "\n",
    "ds = SMInstance(api_key=api_key, email=username).dataset(id=\"2021-10-27_00h20m47s\")\n",
    "# print(ds.metadata)\n",
    "print(ds._info)"
   ]
  },
  {
   "cell_type": "code",
   "execution_count": 8,
   "metadata": {},
   "outputs": [
    {
     "ename": "ValueError",
     "evalue": "All arrays must be of the same length",
     "output_type": "error",
     "traceback": [
      "\u001b[0;31m---------------------------------------------------------------------------\u001b[0m",
      "\u001b[0;31mValueError\u001b[0m                                Traceback (most recent call last)",
      "Input \u001b[0;32mIn [8]\u001b[0m, in \u001b[0;36m<module>\u001b[0;34m\u001b[0m\n\u001b[1;32m      1\u001b[0m \u001b[38;5;28;01mimport\u001b[39;00m \u001b[38;5;21;01mpandas\u001b[39;00m\n\u001b[0;32m----> 2\u001b[0m \u001b[43mpandas\u001b[49m\u001b[38;5;241;43m.\u001b[39;49m\u001b[43mDataFrame\u001b[49m\u001b[43m(\u001b[49m\u001b[43mds\u001b[49m\u001b[38;5;241;43m.\u001b[39;49m\u001b[43m_info\u001b[49m\u001b[43m)\u001b[49m\n",
      "File \u001b[0;32m~/miniconda3/envs/outerSpacem/lib/python3.8/site-packages/pandas/core/frame.py:636\u001b[0m, in \u001b[0;36mDataFrame.__init__\u001b[0;34m(self, data, index, columns, dtype, copy)\u001b[0m\n\u001b[1;32m    630\u001b[0m     mgr \u001b[38;5;241m=\u001b[39m \u001b[38;5;28mself\u001b[39m\u001b[38;5;241m.\u001b[39m_init_mgr(\n\u001b[1;32m    631\u001b[0m         data, axes\u001b[38;5;241m=\u001b[39m{\u001b[38;5;124m\"\u001b[39m\u001b[38;5;124mindex\u001b[39m\u001b[38;5;124m\"\u001b[39m: index, \u001b[38;5;124m\"\u001b[39m\u001b[38;5;124mcolumns\u001b[39m\u001b[38;5;124m\"\u001b[39m: columns}, dtype\u001b[38;5;241m=\u001b[39mdtype, copy\u001b[38;5;241m=\u001b[39mcopy\n\u001b[1;32m    632\u001b[0m     )\n\u001b[1;32m    634\u001b[0m \u001b[38;5;28;01melif\u001b[39;00m \u001b[38;5;28misinstance\u001b[39m(data, \u001b[38;5;28mdict\u001b[39m):\n\u001b[1;32m    635\u001b[0m     \u001b[38;5;66;03m# GH#38939 de facto copy defaults to False only in non-dict cases\u001b[39;00m\n\u001b[0;32m--> 636\u001b[0m     mgr \u001b[38;5;241m=\u001b[39m \u001b[43mdict_to_mgr\u001b[49m\u001b[43m(\u001b[49m\u001b[43mdata\u001b[49m\u001b[43m,\u001b[49m\u001b[43m \u001b[49m\u001b[43mindex\u001b[49m\u001b[43m,\u001b[49m\u001b[43m \u001b[49m\u001b[43mcolumns\u001b[49m\u001b[43m,\u001b[49m\u001b[43m \u001b[49m\u001b[43mdtype\u001b[49m\u001b[38;5;241;43m=\u001b[39;49m\u001b[43mdtype\u001b[49m\u001b[43m,\u001b[49m\u001b[43m \u001b[49m\u001b[43mcopy\u001b[49m\u001b[38;5;241;43m=\u001b[39;49m\u001b[43mcopy\u001b[49m\u001b[43m,\u001b[49m\u001b[43m \u001b[49m\u001b[43mtyp\u001b[49m\u001b[38;5;241;43m=\u001b[39;49m\u001b[43mmanager\u001b[49m\u001b[43m)\u001b[49m\n\u001b[1;32m    637\u001b[0m \u001b[38;5;28;01melif\u001b[39;00m \u001b[38;5;28misinstance\u001b[39m(data, ma\u001b[38;5;241m.\u001b[39mMaskedArray):\n\u001b[1;32m    638\u001b[0m     \u001b[38;5;28;01mimport\u001b[39;00m \u001b[38;5;21;01mnumpy\u001b[39;00m\u001b[38;5;21;01m.\u001b[39;00m\u001b[38;5;21;01mma\u001b[39;00m\u001b[38;5;21;01m.\u001b[39;00m\u001b[38;5;21;01mmrecords\u001b[39;00m \u001b[38;5;28;01mas\u001b[39;00m \u001b[38;5;21;01mmrecords\u001b[39;00m\n",
      "File \u001b[0;32m~/miniconda3/envs/outerSpacem/lib/python3.8/site-packages/pandas/core/internals/construction.py:502\u001b[0m, in \u001b[0;36mdict_to_mgr\u001b[0;34m(data, index, columns, dtype, typ, copy)\u001b[0m\n\u001b[1;32m    494\u001b[0m     arrays \u001b[38;5;241m=\u001b[39m [\n\u001b[1;32m    495\u001b[0m         x\n\u001b[1;32m    496\u001b[0m         \u001b[38;5;28;01mif\u001b[39;00m \u001b[38;5;129;01mnot\u001b[39;00m \u001b[38;5;28mhasattr\u001b[39m(x, \u001b[38;5;124m\"\u001b[39m\u001b[38;5;124mdtype\u001b[39m\u001b[38;5;124m\"\u001b[39m) \u001b[38;5;129;01mor\u001b[39;00m \u001b[38;5;129;01mnot\u001b[39;00m \u001b[38;5;28misinstance\u001b[39m(x\u001b[38;5;241m.\u001b[39mdtype, ExtensionDtype)\n\u001b[1;32m    497\u001b[0m         \u001b[38;5;28;01melse\u001b[39;00m x\u001b[38;5;241m.\u001b[39mcopy()\n\u001b[1;32m    498\u001b[0m         \u001b[38;5;28;01mfor\u001b[39;00m x \u001b[38;5;129;01min\u001b[39;00m arrays\n\u001b[1;32m    499\u001b[0m     ]\n\u001b[1;32m    500\u001b[0m     \u001b[38;5;66;03m# TODO: can we get rid of the dt64tz special case above?\u001b[39;00m\n\u001b[0;32m--> 502\u001b[0m \u001b[38;5;28;01mreturn\u001b[39;00m \u001b[43marrays_to_mgr\u001b[49m\u001b[43m(\u001b[49m\u001b[43marrays\u001b[49m\u001b[43m,\u001b[49m\u001b[43m \u001b[49m\u001b[43mcolumns\u001b[49m\u001b[43m,\u001b[49m\u001b[43m \u001b[49m\u001b[43mindex\u001b[49m\u001b[43m,\u001b[49m\u001b[43m \u001b[49m\u001b[43mdtype\u001b[49m\u001b[38;5;241;43m=\u001b[39;49m\u001b[43mdtype\u001b[49m\u001b[43m,\u001b[49m\u001b[43m \u001b[49m\u001b[43mtyp\u001b[49m\u001b[38;5;241;43m=\u001b[39;49m\u001b[43mtyp\u001b[49m\u001b[43m,\u001b[49m\u001b[43m \u001b[49m\u001b[43mconsolidate\u001b[49m\u001b[38;5;241;43m=\u001b[39;49m\u001b[43mcopy\u001b[49m\u001b[43m)\u001b[49m\n",
      "File \u001b[0;32m~/miniconda3/envs/outerSpacem/lib/python3.8/site-packages/pandas/core/internals/construction.py:120\u001b[0m, in \u001b[0;36marrays_to_mgr\u001b[0;34m(arrays, columns, index, dtype, verify_integrity, typ, consolidate)\u001b[0m\n\u001b[1;32m    117\u001b[0m \u001b[38;5;28;01mif\u001b[39;00m verify_integrity:\n\u001b[1;32m    118\u001b[0m     \u001b[38;5;66;03m# figure out the index, if necessary\u001b[39;00m\n\u001b[1;32m    119\u001b[0m     \u001b[38;5;28;01mif\u001b[39;00m index \u001b[38;5;129;01mis\u001b[39;00m \u001b[38;5;28;01mNone\u001b[39;00m:\n\u001b[0;32m--> 120\u001b[0m         index \u001b[38;5;241m=\u001b[39m \u001b[43m_extract_index\u001b[49m\u001b[43m(\u001b[49m\u001b[43marrays\u001b[49m\u001b[43m)\u001b[49m\n\u001b[1;32m    121\u001b[0m     \u001b[38;5;28;01melse\u001b[39;00m:\n\u001b[1;32m    122\u001b[0m         index \u001b[38;5;241m=\u001b[39m ensure_index(index)\n",
      "File \u001b[0;32m~/miniconda3/envs/outerSpacem/lib/python3.8/site-packages/pandas/core/internals/construction.py:674\u001b[0m, in \u001b[0;36m_extract_index\u001b[0;34m(data)\u001b[0m\n\u001b[1;32m    672\u001b[0m lengths \u001b[38;5;241m=\u001b[39m \u001b[38;5;28mlist\u001b[39m(\u001b[38;5;28mset\u001b[39m(raw_lengths))\n\u001b[1;32m    673\u001b[0m \u001b[38;5;28;01mif\u001b[39;00m \u001b[38;5;28mlen\u001b[39m(lengths) \u001b[38;5;241m>\u001b[39m \u001b[38;5;241m1\u001b[39m:\n\u001b[0;32m--> 674\u001b[0m     \u001b[38;5;28;01mraise\u001b[39;00m \u001b[38;5;167;01mValueError\u001b[39;00m(\u001b[38;5;124m\"\u001b[39m\u001b[38;5;124mAll arrays must be of the same length\u001b[39m\u001b[38;5;124m\"\u001b[39m)\n\u001b[1;32m    676\u001b[0m \u001b[38;5;28;01mif\u001b[39;00m have_dicts:\n\u001b[1;32m    677\u001b[0m     \u001b[38;5;28;01mraise\u001b[39;00m \u001b[38;5;167;01mValueError\u001b[39;00m(\n\u001b[1;32m    678\u001b[0m         \u001b[38;5;124m\"\u001b[39m\u001b[38;5;124mMixing dicts with non-Series may lead to ambiguous ordering.\u001b[39m\u001b[38;5;124m\"\u001b[39m\n\u001b[1;32m    679\u001b[0m     )\n",
      "\u001b[0;31mValueError\u001b[0m: All arrays must be of the same length"
     ]
    }
   ],
   "source": [
    "import pandas\n",
    "pandas.DataFrame(ds._info)"
   ]
  },
  {
   "cell_type": "code",
   "execution_count": 3,
   "metadata": {},
   "outputs": [],
   "source": [
    "data_dir = Path(r\"/Users/alberto-mac/EMBL_ATeam/projects/gastrosome\")\n",
    "metaspace_data_dir = data_dir / \"pixel_analysis\" / \"data\"\n",
    "metaspace_data_dir.mkdir(parents=True, exist_ok=True)\n",
    "\n",
    "metadata_path = Path(r\"/Users/alberto-mac/EMBL_ATeam/projects/gastrosome/metaspace_datasets.csv\")\n",
    "metadata_save_path = data_dir / \"pixel_analysis\" / \"metaspace_datasets_paths.csv\"\n",
    "\n",
    "plots_path = data_dir / \"pixel_analysis\"/ \"plots\" \n",
    "plots_path.mkdir(parents=True, exist_ok=True)"
   ]
  },
  {
   "cell_type": "markdown",
   "metadata": {},
   "source": [
    "## Check and subset metadata"
   ]
  },
  {
   "cell_type": "markdown",
   "metadata": {},
   "source": [
    "Metadata file downloaded from Metaspace will have the two line header, then column names and then rows corresponding to the datasets. I prefer to keep the header just in case and read in with pandas starting with the third line"
   ]
  },
  {
   "cell_type": "code",
   "execution_count": 4,
   "metadata": {},
   "outputs": [
    {
     "name": "stdout",
     "output_type": "stream",
     "text": [
      "# Generated at 12/16/2021 2:43:06 PM. For help see https://bit.ly/3Bzs6Z4\n",
      "# URL: https://metaspace2020.eu/datasets?q=20211123_AP_DANneg_100x100_a32ss25\n",
      "\"datasetId\",\"datasetName\",\"group\",\"submitter\",\"PI\",\"organism\",\"organismPart\",\"condition\",\"growthConditions\",\"ionisationSource\",\"maldiMatrix\",\"analyzer\",\"resPower400\",\"polarity\",\"uploadDateTime\",\"FDR@10%\",\"database\",\"opticalImage\"\n",
      "\"2021-11-25_12h06m17s\",\"20211123_AP_DANneg_100x100_a32ss25__rf60_CP350_3.10kV_mz100-500_Well6\",\"♡EMBL♡\",\"Arne Mueller\",\"Theodore Alexandrov\",\"N/A\",\"pancreatic cancer cell line - K8484\",\"Ctrl\",\"Control, 3 day incubation\",\"MALDI\",\"1,5-diaminonaphthalene (DAN)\",\"Orbitrap\",\"98995\",\"negative\",\"2021-11-25T10:06:17.161000\",\"34\",\"SwissLipids - 2018-02-02\",\"https://metaspace2020.eu/fs/raw_optical_images/42b0fe08b9a8c100e86839497a1963d8\"\n",
      "\"2021-11-25_12h05m22s\",\"20211123_AP_DANneg_100x100_a32ss25__rf60_CP350_3.10kV_mz100-500_Well5\",\"♡EMBL♡\",\"Arne Mueller\",\"Theodore Alexandrov\",\"N/A\",\"pancreatic cancer cell line - K8484\",\"TGF-ß 5ng per mL \",\"3 days TGF-ß\",\"MALDI\",\"1,5-diaminonaphthalene (DAN)\",\"Orbitrap\",\"98995\",\"negative\",\"2021-11-25T10:05:22.863000\",\"19\",\"SwissLipids - 2018-02-02\",\"https://metaspace2020.eu/fs/raw_optical_images/878b5821f9e48fc65c901d80fd39a830\"\n"
     ]
    }
   ],
   "source": [
    "! head -n 5 $metadata_path"
   ]
  },
  {
   "cell_type": "code",
   "execution_count": 5,
   "metadata": {},
   "outputs": [
    {
     "data": {
      "text/html": [
       "<div>\n",
       "<style scoped>\n",
       "    .dataframe tbody tr th:only-of-type {\n",
       "        vertical-align: middle;\n",
       "    }\n",
       "\n",
       "    .dataframe tbody tr th {\n",
       "        vertical-align: top;\n",
       "    }\n",
       "\n",
       "    .dataframe thead th {\n",
       "        text-align: right;\n",
       "    }\n",
       "</style>\n",
       "<table border=\"1\" class=\"dataframe\">\n",
       "  <thead>\n",
       "    <tr style=\"text-align: right;\">\n",
       "      <th></th>\n",
       "      <th>datasetId</th>\n",
       "      <th>datasetName</th>\n",
       "      <th>group</th>\n",
       "      <th>submitter</th>\n",
       "      <th>PI</th>\n",
       "      <th>organism</th>\n",
       "      <th>organismPart</th>\n",
       "      <th>condition</th>\n",
       "      <th>growthConditions</th>\n",
       "      <th>ionisationSource</th>\n",
       "      <th>maldiMatrix</th>\n",
       "      <th>analyzer</th>\n",
       "      <th>resPower400</th>\n",
       "      <th>polarity</th>\n",
       "      <th>uploadDateTime</th>\n",
       "      <th>FDR@10%</th>\n",
       "      <th>database</th>\n",
       "      <th>opticalImage</th>\n",
       "    </tr>\n",
       "  </thead>\n",
       "  <tbody>\n",
       "    <tr>\n",
       "      <th>0</th>\n",
       "      <td>2021-11-25_12h06m17s</td>\n",
       "      <td>20211123_AP_DANneg_100x100_a32ss25__rf60_CP350...</td>\n",
       "      <td>♡EMBL♡</td>\n",
       "      <td>Arne Mueller</td>\n",
       "      <td>Theodore Alexandrov</td>\n",
       "      <td>NaN</td>\n",
       "      <td>pancreatic cancer cell line - K8484</td>\n",
       "      <td>Ctrl</td>\n",
       "      <td>Control, 3 day incubation</td>\n",
       "      <td>MALDI</td>\n",
       "      <td>1,5-diaminonaphthalene (DAN)</td>\n",
       "      <td>Orbitrap</td>\n",
       "      <td>98995</td>\n",
       "      <td>negative</td>\n",
       "      <td>2021-11-25T10:06:17.161000</td>\n",
       "      <td>34</td>\n",
       "      <td>SwissLipids - 2018-02-02</td>\n",
       "      <td>https://metaspace2020.eu/fs/raw_optical_images...</td>\n",
       "    </tr>\n",
       "    <tr>\n",
       "      <th>1</th>\n",
       "      <td>2021-11-25_12h05m22s</td>\n",
       "      <td>20211123_AP_DANneg_100x100_a32ss25__rf60_CP350...</td>\n",
       "      <td>♡EMBL♡</td>\n",
       "      <td>Arne Mueller</td>\n",
       "      <td>Theodore Alexandrov</td>\n",
       "      <td>NaN</td>\n",
       "      <td>pancreatic cancer cell line - K8484</td>\n",
       "      <td>TGF-ß 5ng per mL</td>\n",
       "      <td>3 days TGF-ß</td>\n",
       "      <td>MALDI</td>\n",
       "      <td>1,5-diaminonaphthalene (DAN)</td>\n",
       "      <td>Orbitrap</td>\n",
       "      <td>98995</td>\n",
       "      <td>negative</td>\n",
       "      <td>2021-11-25T10:05:22.863000</td>\n",
       "      <td>19</td>\n",
       "      <td>SwissLipids - 2018-02-02</td>\n",
       "      <td>https://metaspace2020.eu/fs/raw_optical_images...</td>\n",
       "    </tr>\n",
       "    <tr>\n",
       "      <th>2</th>\n",
       "      <td>2021-11-25_12h03m15s</td>\n",
       "      <td>20211123_AP_DANneg_100x100_a32ss25__rf60_CP350...</td>\n",
       "      <td>♡EMBL♡</td>\n",
       "      <td>Arne Mueller</td>\n",
       "      <td>Theodore Alexandrov</td>\n",
       "      <td>NaN</td>\n",
       "      <td>pancreatic cancer cell line - K8484</td>\n",
       "      <td>Ctrl</td>\n",
       "      <td>Control, 3 day incubation</td>\n",
       "      <td>MALDI</td>\n",
       "      <td>1,5-diaminonaphthalene (DAN)</td>\n",
       "      <td>Orbitrap</td>\n",
       "      <td>98995</td>\n",
       "      <td>negative</td>\n",
       "      <td>2021-11-25T10:03:15.241000</td>\n",
       "      <td>33</td>\n",
       "      <td>SwissLipids - 2018-02-02</td>\n",
       "      <td>https://metaspace2020.eu/fs/raw_optical_images...</td>\n",
       "    </tr>\n",
       "    <tr>\n",
       "      <th>3</th>\n",
       "      <td>2021-11-25_12h02m02s</td>\n",
       "      <td>20211123_AP_DANneg_100x100_a32ss25__rf60_CP350...</td>\n",
       "      <td>♡EMBL♡</td>\n",
       "      <td>Arne Mueller</td>\n",
       "      <td>Theodore Alexandrov</td>\n",
       "      <td>NaN</td>\n",
       "      <td>pancreatic cancer cell line - K8484</td>\n",
       "      <td>TGF-ß 5ng per mL</td>\n",
       "      <td>3 days TGF-ß</td>\n",
       "      <td>MALDI</td>\n",
       "      <td>1,5-diaminonaphthalene (DAN)</td>\n",
       "      <td>Orbitrap</td>\n",
       "      <td>98995</td>\n",
       "      <td>negative</td>\n",
       "      <td>2021-11-25T10:02:02.109000</td>\n",
       "      <td>36</td>\n",
       "      <td>SwissLipids - 2018-02-02</td>\n",
       "      <td>https://metaspace2020.eu/fs/raw_optical_images...</td>\n",
       "    </tr>\n",
       "    <tr>\n",
       "      <th>4</th>\n",
       "      <td>2021-11-25_12h04m46s</td>\n",
       "      <td>20211123_AP_DANneg_100x100_a32ss25__rf60_CP350...</td>\n",
       "      <td>♡EMBL♡</td>\n",
       "      <td>Arne Mueller</td>\n",
       "      <td>Theodore Alexandrov</td>\n",
       "      <td>NaN</td>\n",
       "      <td>pancreatic cancer cell line - K8484</td>\n",
       "      <td>Ctrl</td>\n",
       "      <td>Control, 3 day incubation</td>\n",
       "      <td>MALDI</td>\n",
       "      <td>1,5-diaminonaphthalene (DAN)</td>\n",
       "      <td>Orbitrap</td>\n",
       "      <td>98995</td>\n",
       "      <td>negative</td>\n",
       "      <td>2021-11-25T10:04:46.322000</td>\n",
       "      <td>41</td>\n",
       "      <td>SwissLipids - 2018-02-02</td>\n",
       "      <td>https://metaspace2020.eu/fs/raw_optical_images...</td>\n",
       "    </tr>\n",
       "  </tbody>\n",
       "</table>\n",
       "</div>"
      ],
      "text/plain": [
       "              datasetId                                        datasetName  \\\n",
       "0  2021-11-25_12h06m17s  20211123_AP_DANneg_100x100_a32ss25__rf60_CP350...   \n",
       "1  2021-11-25_12h05m22s  20211123_AP_DANneg_100x100_a32ss25__rf60_CP350...   \n",
       "2  2021-11-25_12h03m15s  20211123_AP_DANneg_100x100_a32ss25__rf60_CP350...   \n",
       "3  2021-11-25_12h02m02s  20211123_AP_DANneg_100x100_a32ss25__rf60_CP350...   \n",
       "4  2021-11-25_12h04m46s  20211123_AP_DANneg_100x100_a32ss25__rf60_CP350...   \n",
       "\n",
       "    group     submitter                   PI  organism  \\\n",
       "0  ♡EMBL♡  Arne Mueller  Theodore Alexandrov       NaN   \n",
       "1  ♡EMBL♡  Arne Mueller  Theodore Alexandrov       NaN   \n",
       "2  ♡EMBL♡  Arne Mueller  Theodore Alexandrov       NaN   \n",
       "3  ♡EMBL♡  Arne Mueller  Theodore Alexandrov       NaN   \n",
       "4  ♡EMBL♡  Arne Mueller  Theodore Alexandrov       NaN   \n",
       "\n",
       "                          organismPart          condition  \\\n",
       "0  pancreatic cancer cell line - K8484               Ctrl   \n",
       "1  pancreatic cancer cell line - K8484  TGF-ß 5ng per mL    \n",
       "2  pancreatic cancer cell line - K8484               Ctrl   \n",
       "3  pancreatic cancer cell line - K8484  TGF-ß 5ng per mL    \n",
       "4  pancreatic cancer cell line - K8484               Ctrl   \n",
       "\n",
       "            growthConditions ionisationSource                   maldiMatrix  \\\n",
       "0  Control, 3 day incubation            MALDI  1,5-diaminonaphthalene (DAN)   \n",
       "1               3 days TGF-ß            MALDI  1,5-diaminonaphthalene (DAN)   \n",
       "2  Control, 3 day incubation            MALDI  1,5-diaminonaphthalene (DAN)   \n",
       "3               3 days TGF-ß            MALDI  1,5-diaminonaphthalene (DAN)   \n",
       "4  Control, 3 day incubation            MALDI  1,5-diaminonaphthalene (DAN)   \n",
       "\n",
       "   analyzer  resPower400  polarity              uploadDateTime  FDR@10%  \\\n",
       "0  Orbitrap        98995  negative  2021-11-25T10:06:17.161000       34   \n",
       "1  Orbitrap        98995  negative  2021-11-25T10:05:22.863000       19   \n",
       "2  Orbitrap        98995  negative  2021-11-25T10:03:15.241000       33   \n",
       "3  Orbitrap        98995  negative  2021-11-25T10:02:02.109000       36   \n",
       "4  Orbitrap        98995  negative  2021-11-25T10:04:46.322000       41   \n",
       "\n",
       "                   database                                       opticalImage  \n",
       "0  SwissLipids - 2018-02-02  https://metaspace2020.eu/fs/raw_optical_images...  \n",
       "1  SwissLipids - 2018-02-02  https://metaspace2020.eu/fs/raw_optical_images...  \n",
       "2  SwissLipids - 2018-02-02  https://metaspace2020.eu/fs/raw_optical_images...  \n",
       "3  SwissLipids - 2018-02-02  https://metaspace2020.eu/fs/raw_optical_images...  \n",
       "4  SwissLipids - 2018-02-02  https://metaspace2020.eu/fs/raw_optical_images...  "
      ]
     },
     "execution_count": 5,
     "metadata": {},
     "output_type": "execute_result"
    }
   ],
   "source": [
    "metadata = pd.read_csv(metadata_path, skiprows=2)\n",
    "metadata.head()"
   ]
  },
  {
   "cell_type": "markdown",
   "metadata": {},
   "source": [
    "Frequent operation: splitting dataset name to get some information into a separate column.  \n",
    "\n",
    "As an example, let's get the well number and subset the metadata table to analyze only wells 1-4.\n",
    "\n",
    "A good and more stable way to do it is to use regular expressions, but, at least for me, getting it right, usually requires so much time that I give up and use split function..."
   ]
  },
  {
   "cell_type": "code",
   "execution_count": 6,
   "metadata": {},
   "outputs": [],
   "source": [
    "def get_well(ds_name):\n",
    "    well = ds_name.split(\"_\")[-1]\n",
    "    well = int(well[4:])\n",
    "    return well\n",
    "\n",
    "metadata[\"well\"] = metadata[\"datasetName\"].apply(get_well)\n",
    "# subset_metadata = metadata[metadata[\"well\"] <= 4]"
   ]
  },
  {
   "cell_type": "markdown",
   "metadata": {},
   "source": [
    "Another example: getting date from Metaspace ID and filtering by date"
   ]
  },
  {
   "cell_type": "code",
   "execution_count": 7,
   "metadata": {},
   "outputs": [],
   "source": [
    "def get_date(ds_id):\n",
    "    date = ds_id.split(\"_\")[0]\n",
    "    return date\n",
    "\n",
    "metadata[\"date\"] = metadata[\"datasetId\"].apply(get_date)\n",
    "\n",
    "# subset_metadata = metadata[metadata[\"date\"] == \"2021-12-18\"]"
   ]
  },
  {
   "cell_type": "markdown",
   "metadata": {},
   "source": [
    "Doing analysis with all samples"
   ]
  },
  {
   "cell_type": "code",
   "execution_count": 8,
   "metadata": {},
   "outputs": [],
   "source": [
    "subset_metadata = metadata"
   ]
  },
  {
   "cell_type": "markdown",
   "metadata": {},
   "source": [
    "## Set up Metaspace download parameters"
   ]
  },
  {
   "cell_type": "code",
   "execution_count": 9,
   "metadata": {},
   "outputs": [],
   "source": [
    "\n",
    "\n",
    "# Some examples of databases\n",
    "# database = (\"AB_tcells_ht_nedc_union_DB\", \"v1\")\n",
    "# database = ('CoreMetabolome', 'v3')\n",
    "database = (\"VS_custom_database_long\", \"Sep2020\")\n",
    "if type(database) is tuple:\n",
    "    database_str = \"_\".join(database)\n",
    "else:\n",
    "    database_str = str(database)\n",
    "    \n",
    "# Maximum false discovery rate. Valid values are 0.05, 0.1, 0.2, 0.5 corresponding to 5%, 10%, 20% and 50%\n",
    "fdr = 0.5"
   ]
  },
  {
   "cell_type": "markdown",
   "metadata": {},
   "source": [
    "## Set paths of the datasets and store final metadata table"
   ]
  },
  {
   "cell_type": "code",
   "execution_count": 10,
   "metadata": {},
   "outputs": [],
   "source": [
    "subset_metadata.loc[:, \"ion_metadata_path\"] = [str(metaspace_data_dir / f\"{ds_name}_{database_str}_{str(fdr)}_ion_metadata.csv\") for ds_name in subset_metadata.datasetName]\n",
    "subset_metadata.loc[:, \"ion_images_path\"] = [str(metaspace_data_dir / f\"{ds_name}_{database_str}_{str(fdr)}_ion_images.zarr\") for ds_name in subset_metadata.datasetName]\n",
    "subset_metadata.loc[:, \"tic_path\"] = [str(metaspace_data_dir / f\"{ds_name}_{database_str}_{str(fdr)}_tic.zarr\") for ds_name in subset_metadata.datasetName]\n",
    "subset_metadata.loc[:, \"adata_path\"] = [str(metaspace_data_dir / f\"{ds_name}_{database_str}_{str(fdr)}_adata.h5ad\") for ds_name in subset_metadata.datasetName]\n",
    "subset_metadata.to_csv(metadata_save_path, index=False)"
   ]
  },
  {
   "cell_type": "markdown",
   "metadata": {},
   "source": [
    "## Download"
   ]
  },
  {
   "cell_type": "code",
   "execution_count": 11,
   "metadata": {},
   "outputs": [
    {
     "name": "stdout",
     "output_type": "stream",
     "text": [
      "Dataset name:  20211123_AP_DANneg_100x100_a32ss25__rf60_CP350_3.10kV_mz100-500_Well6\n",
      "Dataset ID:  2021-11-25_12h06m17s\n",
      "Available databases: HMDB, CoreMetabolome, VS_custom_database_long, SwissLipids\n",
      "Downloading annotations for database  ('VS_custom_database_long', 'Sep2020')\n"
     ]
    },
    {
     "name": "stderr",
     "output_type": "stream",
     "text": [
      "100%|████████████████████████████████████████| 499/499 [00:03<00:00, 147.84it/s]\n"
     ]
    },
    {
     "name": "stdout",
     "output_type": "stream",
     "text": [
      "Ion image shape:  (100, 100)\n",
      "Dataset name:  20211123_AP_DANneg_100x100_a32ss25__rf60_CP350_3.10kV_mz100-500_Well5\n",
      "Dataset ID:  2021-11-25_12h05m22s\n",
      "Available databases: HMDB, CoreMetabolome, VS_custom_database_long, SwissLipids\n",
      "Downloading annotations for database  ('VS_custom_database_long', 'Sep2020')\n"
     ]
    },
    {
     "name": "stderr",
     "output_type": "stream",
     "text": [
      "100%|████████████████████████████████████████| 501/501 [00:03<00:00, 146.81it/s]\n"
     ]
    },
    {
     "name": "stdout",
     "output_type": "stream",
     "text": [
      "Ion image shape:  (100, 100)\n",
      "Dataset name:  20211123_AP_DANneg_100x100_a32ss25__rf60_CP350_3.10kV_mz100-500_Well2\n",
      "Dataset ID:  2021-11-25_12h03m15s\n",
      "Available databases: HMDB, CoreMetabolome, VS_custom_database_long, SwissLipids\n",
      "Downloading annotations for database  ('VS_custom_database_long', 'Sep2020')\n"
     ]
    },
    {
     "name": "stderr",
     "output_type": "stream",
     "text": [
      "100%|████████████████████████████████████████| 501/501 [00:03<00:00, 153.12it/s]\n"
     ]
    },
    {
     "name": "stdout",
     "output_type": "stream",
     "text": [
      "Ion image shape:  (100, 100)\n",
      "Dataset name:  20211123_AP_DANneg_100x100_a32ss25__rf60_CP350_3.10kV_mz100-500_Well1\n",
      "Dataset ID:  2021-11-25_12h02m02s\n",
      "Available databases: HMDB, CoreMetabolome, VS_custom_database_long, SwissLipids\n",
      "Downloading annotations for database  ('VS_custom_database_long', 'Sep2020')\n"
     ]
    },
    {
     "name": "stderr",
     "output_type": "stream",
     "text": [
      "100%|████████████████████████████████████████| 500/500 [00:03<00:00, 156.31it/s]\n"
     ]
    },
    {
     "name": "stdout",
     "output_type": "stream",
     "text": [
      "Ion image shape:  (100, 100)\n",
      "Dataset name:  20211123_AP_DANneg_100x100_a32ss25__rf60_CP350_3.10kV_mz100-500_Well4\n",
      "Dataset ID:  2021-11-25_12h04m46s\n",
      "Available databases: HMDB, CoreMetabolome, VS_custom_database_long, SwissLipids\n",
      "Downloading annotations for database  ('VS_custom_database_long', 'Sep2020')\n"
     ]
    },
    {
     "name": "stderr",
     "output_type": "stream",
     "text": [
      "100%|████████████████████████████████████████| 503/503 [00:02<00:00, 168.39it/s]\n"
     ]
    },
    {
     "name": "stdout",
     "output_type": "stream",
     "text": [
      "Ion image shape:  (100, 100)\n",
      "Dataset name:  20211123_AP_DANneg_100x100_a32ss25__rf60_CP350_3.10kV_mz100-500_Well8\n",
      "Dataset ID:  2021-11-25_12h07m56s\n",
      "Available databases: HMDB, CoreMetabolome, VS_custom_database_long, SwissLipids\n",
      "Downloading annotations for database  ('VS_custom_database_long', 'Sep2020')\n"
     ]
    },
    {
     "name": "stderr",
     "output_type": "stream",
     "text": [
      "100%|████████████████████████████████████████| 497/497 [00:03<00:00, 155.88it/s]\n"
     ]
    },
    {
     "name": "stdout",
     "output_type": "stream",
     "text": [
      "Ion image shape:  (100, 100)\n",
      "Dataset name:  20211123_AP_DANneg_100x100_a32ss25__rf60_CP350_3.10kV_mz100-500_Well7\n",
      "Dataset ID:  2021-11-25_12h07m11s\n",
      "Available databases: HMDB, CoreMetabolome, VS_custom_database_long, SwissLipids\n",
      "Downloading annotations for database  ('VS_custom_database_long', 'Sep2020')\n"
     ]
    },
    {
     "name": "stderr",
     "output_type": "stream",
     "text": [
      "100%|████████████████████████████████████████| 501/501 [00:02<00:00, 167.69it/s]\n"
     ]
    },
    {
     "name": "stdout",
     "output_type": "stream",
     "text": [
      "Ion image shape:  (100, 100)\n",
      "Dataset name:  20211123_AP_DANneg_100x100_a32ss25__rf60_CP350_3.10kV_mz100-500_Well3\n",
      "Dataset ID:  2021-11-25_12h04m00s\n",
      "Available databases: HMDB, CoreMetabolome, VS_custom_database_long, SwissLipids\n",
      "Downloading annotations for database  ('VS_custom_database_long', 'Sep2020')\n"
     ]
    },
    {
     "name": "stderr",
     "output_type": "stream",
     "text": [
      "100%|████████████████████████████████████████| 502/502 [00:03<00:00, 143.49it/s]\n"
     ]
    },
    {
     "name": "stdout",
     "output_type": "stream",
     "text": [
      "Ion image shape:  (100, 100)\n"
     ]
    }
   ],
   "source": [
    "sm = SMInstance(api_key=api_key, email=username)\n",
    "\n",
    "for id, ds_meta in subset_metadata.iterrows():\n",
    "    dataset_id = ds_meta[\"datasetId\"]\n",
    "    ion_images_path = ds_meta[\"ion_images_path\"]\n",
    "    ion_metadata_path = ds_meta[\"ion_metadata_path\"]\n",
    "    tic_path = ds_meta[\"tic_path\"]\n",
    "\n",
    "    ion_metadata, ion_images_array, tic = download_all_annotation_images_to_zarr(\n",
    "        sm=sm,\n",
    "        ion_images_path=ion_images_path,\n",
    "        tic_path=tic_path,\n",
    "        dataset_id=dataset_id,\n",
    "        database=database,\n",
    "    )\n",
    "    ion_metadata.to_csv(ion_metadata_path)"
   ]
  },
  {
   "cell_type": "markdown",
   "metadata": {},
   "source": []
  }
 ],
 "metadata": {
  "interpreter": {
   "hash": "adefffb8b862f4fc6836a83c0bea4a2badf6b6537ad4a935edffce03d9100f57"
  },
  "kernelspec": {
   "display_name": "Python 3",
   "language": "python",
   "name": "python3"
  },
  "language_info": {
   "codemirror_mode": {
    "name": "ipython",
    "version": 3
   },
   "file_extension": ".py",
   "mimetype": "text/x-python",
   "name": "python",
   "nbconvert_exporter": "python",
   "pygments_lexer": "ipython3",
   "version": "3.8.5"
  }
 },
 "nbformat": 4,
 "nbformat_minor": 4
}
