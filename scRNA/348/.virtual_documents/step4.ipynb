get_ipython().run_line_magic("matplotlib", " inline")
get_ipython().run_line_magic("config", " InlineBackend.figure_format = 'retina'")

import numpy as np
import pandas as pd
import seaborn as sns
import scanpy as sc
from glob import iglob
import scrublet as scr
import anndata
import scanpy.external as sce
import scvelo as scv
#import scrublet as scr # requires 'pip install scrublet'
import os
import sklearn
import bbknn
from sklearn.linear_model import LogisticRegression
import matplotlib as mpl
import scipy
import matplotlib.pyplot as plt
import pickle

np.random.seed(0)
sc.settings.verbosity = 3  # verbosity: errors (0), warnings (1), info (2), hints (3)
sc.logging.print_versions()
sc.settings.set_figure_params(dpi=100,dpi_save=600)  # low dpi (dots per inch) yields small inline figures


adata = sc.read_h5ad('./01.single data/scRNA_celltype.h5ad')


sc.settings.figdir = './result/'
sc.settings.set_figure_params(dpi=100,dpi_save=600,figsize=(5,5))
sc.pl.umap(adata, color=['Type'],legend_loc='right margin',save='Type.pdf',
               legend_fontsize=10, legend_fontoutline= 1,frameon= True,wspace=0.3)



sc.pp.normalize_total(adata, target_sum=1e4)
sc.pp.log1p(adata)


sc.tl.rank_genes_groups(adata,'cluster_0.6',method='wilcoxon')
sc.pl.rank_genes_groups(adata, n_genes=25, sharey=False)



result = adata.uns['rank_genes_groups']
groups = result['names'].dtype.names
res = pd.DataFrame(    {group + '_' + key: result[key][group]    for group in groups for key in ['names', 'pvals','logfoldchanges','pvals_adj','scores']})


res


sc.settings.figdir = './result/'
sc.pl.rank_genes_groups_dotplot(adata, n_genes=4,save='rank_diff.pdf')





adata.layers['scaled'] = sc.pp.scale(adata, copy=True).X


from matplotlib.pyplot import rc_context
sc.pl.rank_genes_groups_heatmap(adata, n_genes=5, swap_axes=True, vmin=-3, vmax=3, cmap='bwr',
                                layer='scaled',figsize=(12,7), show=False,groupby = 'Type')


cluster = {
    'Microglial cell':["Apoe",'Ctss'],
    "Astrocyte":["Aqp4","Gfap"],
    "OPC":["Olig2"],
    "ODC":["Plp1"],
    'Neuron':["Map2","Dcx"],
    'Ependymal':["Tmem212","Foxj1"],
    'Fibroblast':["Dcn","Lum"],
    'Vascular endothelial cell':["Pecam1"],
    'Macrophage':["Ms4a7","Cd74"],
    'Lymphocyte':["Cd3d"],
    'Endothelial':["Cldn5","Pecam1"],
    'Dividing cell':["Cdk1","Mki67"],
    'Lymphocyte':["Cd3d"],
    'NK cell':["Nkg7"],
    'Th17':["Rora"],
    'B cell':["Cd79a","Cd79b"],
    'Monocyte':["Ly6c2","Csf1r"],
    'Macrophages':[ "Lyz2","Cd68"],
    'Neutrophils':["S100a8","S100a9"],
    'Dendritic cell':['Ccr7',"Cd74"]  
}
marker_list = []

for k,v in cluster.items():
    if isinstance(v,list):
        marker_list.extend(v)
    else:
        marker_list.append(v)


adata.obs["Celltype"] = adata.obs.Celltype.cat.set_categories([
       'Microglial','Astrocyte', 'OPC','ODC',
       'Ependymal','Endothelial',
       'Dividing cell','Lymphocyte','NK cell','Th17',
       'B cell','Monocyte','Macrophages','Fibroblast','Neutrophil',
       'Dendritic cell','Neuron',])
adata.obs["Celltype"] = adata.obs["Celltype"].astype('category')
adata.obs["Celltype"].cat.categories


sc.settings.set_figure_params(dpi=100,dpi_save=600,figsize=(200,7))
sc.pl.heatmap(adata, cluster, groupby='Celltype', vmin=-2, vmax=2, cmap='RdBu_r', layer='scaled',
              swap_axes=True,save='heatmap.pdf')


sc.settings.figdir = './result/marker_gene/'
sc.settings.set_figure_params(dpi=100,dpi_save=600,figsize=(5,5))
for i in marker_list:
    sc.pl.umap(adata,color=i,ncols=1,cmap='OrRd',size=15,legend_fontsize=12,save=i,
              legend_fontoutline= 2,frameon= True)



sc.settings.figdir = './result/'
sc.settings.set_figure_params(dpi=100,dpi_save=600,figsize=(5,5))
sc.pl.umap(adata, color=['Type'],add_outline=True, legend_loc='right margin',size=18,title='',
               legend_fontsize=10, legend_fontoutline= 1,frameon= True,save='group.pdf')
sc.pl.umap(adata, color=['cluster_0.6'],add_outline=True, legend_loc='on data',size=18,title='',
               legend_fontsize=10, legend_fontoutline= 1,frameon= True,save='cluster.pdf')


plt.rcParams['figure.figsize']=(8,8)
sc.pl.violin(adata, ['n_genes', 'n_counts', 'pct_counts_mt','pct_counts_ribo'],
             jitter=1, groupby = 'Type', rotation= 45,save='QC_after.pdf')


plt.rcParams['figure.figsize']=(4,4)
sc.pl.scatter(adata, x='n_counts', y='pct_counts_mt', color='Type',title='',save='QC_MT.pdf')


sc.pl.scatter(adata, x='n_genes', y='pct_counts_ribo', color='Type',title='',save='QC_rb.pdf')



