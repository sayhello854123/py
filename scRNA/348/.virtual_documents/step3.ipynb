get_ipython().run_line_magic("matplotlib", " inline")
get_ipython().run_line_magic("config", " InlineBackend.figure_format = 'retina'")

import numpy as np
import pandas as pd
import seaborn as sns
import scanpy as sc
from glob import iglob
import scrublet as scr
import anndata
import scanpy.external as sce
import scvelo as scv
#import scrublet as scr # requires 'pip install scrublet'
import os
import sklearn
import bbknn
from sklearn.linear_model import LogisticRegression
import matplotlib as mpl
import scipy
import matplotlib.pyplot as plt
import pickle

np.random.seed(0)
sc.settings.verbosity = 3  # verbosity: errors (0), warnings (1), info (2), hints (3)
sc.logging.print_versions()
sc.settings.set_figure_params(dpi=100,dpi_save=800)  # low dpi (dots per inch) yields small inline figures


adata = sc.read_h5ad('./01.single data/scRNA_qc.h5ad')


sc.pp.normalize_total(adata, target_sum=1e4)
sc.pp.log1p(adata)


sc.pp.highly_variable_genes(adata, min_mean=0.0125, max_mean=3, min_disp=0.5)
print("Highly variable genes: %d"%sum(adata.var.highly_variable))
sc.pl.highly_variable_genes(adata)


sc.pp.regress_out(adata, ['n_counts', 'pct_counts_mt'])
sc.pp.scale(adata, max_value=10)


sc.tl.pca(adata, svd_solver='arpack')
sc.pl.pca_variance_ratio(adata, log=True,n_pcs = 50)
sns.lineplot(data = adata.uns['pca']['variance_ratio'],palette= 'tab10',linewidth = 3)
adata.uns['pca']['variance']
sns.lineplot(data =adata.uns['pca']['variance'],palette='tab10',linewidth = 3)


get_ipython().run_cell_magic("time", "", """# trying out harmony here
# Check PCA again - needed for harmony - and extract PCA matrix and batch array
n_pcs = 30
pca = adata.obsm['X_pca'][:, 0:n_pcs]
batch = adata.obs['ID']""")


# Batch-correct the PCA using HARMONY method
get_ipython().run_line_magic("load_ext", " rpy2.ipython")


get_ipython().run_cell_magic("time", "", """%%R -i pca -i batch -o hem

library(harmony)
library(magrittr)

hem <- HarmonyMatrix(pca, batch, theta=1, do_pca=FALSE)
hem = data.frame(hem)""")


# Add harmony values to the anndata object
adata.obsm['X_pca'] = hem.values


for i in range(10,60,5):
    sc.pp.neighbors(adata,n_pcs=30, n_neighbors= i)
    sc.tl.umap(adata)
    print(f'neighbors的数值为：{i}')
    sc.pl.umap(adata)


sc.pp.neighbors(adata,n_pcs=30, n_neighbors= 55)
sc.tl.umap(adata)
sc.pl.umap(adata)


adata1 = sc.read_h5ad('./01.single data/scRNA_celltype.h5ad')


umap = adata1.obsm['X_umap']


adata.obsm['X_umap'] = umap


sc.pl.umap(adata)


for i in range(1,16):
    sc.tl.leiden(adata,resolution=round(i*0.1,1),key_added=f'cluster_{round(i*0.1,1)}')


sc.pl.umap(adata,color = [f'cluster_{round(i*0.1,1)}' for i in range(1,16)],ncols = 3,wspace=0.5)


sc.pl.umap(adata, color=['Type','cluster_0.6'],add_outline=True, legend_loc='right margin',size=15,
               legend_fontsize=15, legend_fontoutline= 1,frameon= True,wspace=0.3)


adata.obs['Type'].value_counts()


adata.obs['Type'].value_counts()


sc.tl.rank_genes_groups(adata,'cluster_0.6',method='wilcoxon')
sc.pl.rank_genes_groups(adata, n_genes=25, sharey=False)


pd.DataFrame(adata.uns['rank_genes_groups']['names']).head(35)



result = adata.uns['rank_genes_groups']
groups = result['names'].dtype.names
res = pd.DataFrame(    {group + '_' + key: result[key][group]    for group in groups for key in ['names', 'pvals','logfoldchanges','pvals_adj','scores']})


res.to_csv("diff_cluster.csv")


sc.pl.umap(adata, color=['cluster_0.6'],add_outline=True, legend_loc='on data',size=18,title='',
               legend_fontsize=10, legend_fontoutline= 1,frameon= True)


markers = ["Apoe","Ctss",#Microglial
           "Cd3d",#Lymphocyte
           "Rora",#Th17
           "Nkg7",#NK
           "Cd79a","Cd79b",#B
           "Lyz2","Cd68",#Macrophage
           "S100a8","S100a9",#Neutrophil
           'Ccr7',"Cd74",#Dendritic cell
           "Ly6c2","Csf1r",#Monocyte
           "Aqp4","Gfap",#Astrocyte
           "Dcn","Lum",#Fibroblast
           "Map2","Dcx",#Neuron
           "Tmem212","Foxj1",#Ependymal cell
           "Plp1","Opalin",#Oligodendrocyte
           "Olig2",#Oligodendrocyte precursor cell少突胶质前体细胞
           'Cldn5',"Pecam1",#endothelial cell
           "Dcn","Lum",#Fibroblast
           "Cdk1","Mki67",#Dividing cell
          ]
sc.pl.dotplot(adata,markers,'cluster_0.6',cmap='OrRd',swap_axes=True)


sc.settings.set_figure_params(dpi=100,dpi_save=600,figsize=(5,5))
sc.pl.umap(adata, color=['cluster_0.6','Type'],add_outline=True, legend_loc='on data',size=18,
               legend_fontsize=10, legend_fontoutline= 1,frameon= True,wspace=0.3)


sc.pl.umap(adata,color=["S100a9","Gfap","C1qc","Cd14"],ncols=4,cmap='OrRd',size=15,legend_fontsize=12)


def annot_prelim(cluster):
    if cluster in ["0","2","8"]:
         return('Microglial')
    elif cluster in ['1','7','14']:
        return('Lymphocyte')
    elif cluster in ['3']:
        return('OPC')
    elif cluster in ['4','9']:
        return('Macrophages')
    elif cluster in ['5','6','15']:
        return('Neutrophil')
    elif cluster =='10':
        return('Dendritic cell')
    elif cluster =='11':
        return('NK cell')
    elif cluster =='12':
        return('B cell')
    elif cluster =='13':
        return('Monocyte')
    elif cluster =='16':
        return('Fibroblast')
    elif cluster =='17':
        return('Astrocyte')
    elif cluster =='18':
        return('ODC')
    elif cluster =='19':
        return('Ependymal')
    elif cluster =='20':
        return('Neuron')
    elif cluster =='21':
        return('Dividing cell')
    elif cluster =='22':
        return('Endothelial')
    else:
        return('Th17')


adata.obs['Celltype'] = adata.obs['cluster_0.6'].map(annot_prelim)


sc.settings.set_figure_params(dpi=100,dpi_save=600,figsize=(6,6))
sc.pl.umap(adata, color='Celltype',add_outline=True, legend_loc='right margin',
               legend_fontsize=15, legend_fontoutline= 1,frameon= True)


adata.obs["Celltype"] = adata.obs.Celltype.cat.set_categories([
       'Microglial','Astrocyte', 'OPC','ODC',
       'Neuron','Ependymal','Fibroblast','Endothelial',
       'Dividing cell','Lymphocyte','NK cell','Th17',
       'B cell','Monocyte','Macrophages','Neutrophil',
       'Dendritic cell'])


adata.obs["Celltype"] = adata.obs["Celltype"].astype('category')
adata.obs["Celltype"].cat.categories


new_colors = np.empty(len(adata.obs["Celltype"].cat.categories), dtype=object) 
new_colors[[0]] = '#FF0033' # Microglial
new_colors[[1]] = '#339933' # Astrocyte
new_colors[[2]] = '#FF6600' # 'OPC'
new_colors[[3]] = '#FF9999' # Oligodendrocyte
new_colors[[4]] = '#990066' # Neuron
new_colors[[5]] = '#CC00CC' #Ependymal
new_colors[[6]] = '#33FF33' # Fibroblast
new_colors[[7]] = '#000099' # Endothelial
new_colors[[8]] = '#FFFF00' # Dividing cell
new_colors[[9]] = '#FF6666' # Lymphocyte
new_colors[[10]] ='#FFCC66' # NK cell
new_colors[[11]] ='#990000' # Th17
new_colors[[12]] ='#FF9933' # B cell
new_colors[[13]] ='#0099CC' # Monocyte
new_colors[[14]] ='#0066CC' # Macrophages
new_colors[[15]] ='#9999FF' # Neutrophil
new_colors[[16]] ='#3399FF' # Dendritic cell
adata.uns["Celltype_colors"] = new_colors
new_colors


sc.settings.figdir = './result/'
sc.settings.set_figure_params(dpi=100,dpi_save=600,figsize=(8,8))
sc.pl.umap(adata, color='Celltype',legend_loc='on data',size=5,
           legend_fontsize=8, legend_fontoutline= 2,title='Cell Type',add_outline=True,
              frameon= True,save='celltype.pdf')



get_ipython().run_line_magic("load_ext", " rpy2.ipython")


rpy2.ipython.rmagic.RMagics.R(""" 
library(future)
library(RColorBrewer)
library(viridis)
library(Seurat)
library(harmony)
library(tidyverse)
library(patchwork)
library(ggplot2)
library(cowplot)
library(dplyr)
library(data.table)""", "")


adata


adata.obs["Type"] = adata.obs.Type.cat.set_categories([
       'Control','Vehicle', 'Drug', 'Taxol'])


adata.obs["Type"] = adata.obs["Type"].astype('category')
adata.obs["Type"].cat.categories


Sample = adata.obs['Type']
cell_type = adata.obs['Celltype']
A = adata.obs


rpy2.ipython.rmagic.RMagics.R("""  -o rt
rt <- A
match_celltype_levels <- c('Microglial', 'Astrocyte', 'OPC', 'ODC', 'Neuron',
       'Ependymal', 'Fibroblast', 'Endothelial', 'Dividing cell', 'Lymphocyte',
       'NK cell', 'Th17', 'B cell', 'Monocyte', 'Macrophages', 'Neutrophil',
       'Dendritic cell')
allcolour <- c('#FF0033', '#339933', '#FF6600', '#FF9999', '#990066', '#CC00CC',
       '#33FF33', '#000099', '#FFFF00', '#FF6666', '#FFCC66', '#990000',
       '#FF9933', '#0099CC', '#0066CC', '#9999FF', '#3399FF')
a <- rt
length(colnames(a))
colnames(a)[34] = c('cell.type')
a[1:10,]
mydata <- a%>%
  group_by(Type) %>%
  mutate(celltype = factor(cell.type,levels = match_celltype_levels)) %>%
  arrange(celltype)
p1 = ggplot() +
  geom_bar(data = mydata, aes(x = Type, fill = factor(celltype)), position = position_fill(reverse = TRUE)) +scale_fill_manual(values = allcolour) +
  labs(fill = "cell type",x ='Group', y = "Fraction of cells")+theme(
      panel.grid.major = element_blank(), #主网格线
      panel.grid.minor = element_blank(),
      panel.background = element_rect(fill = 'white'), #背景色
      panel.border = element_rect(fill=NA,color="black", size=0.5, linetype="solid")
        )
p1 
ggsave('./result/Ratios_barplot.pdf',p1,width = 8,height = 12,dpi = 1000)""", "", A)


cluster = {
    'Microglial cell':["Apoe",'Ctss'],
    "Astrocyte":["Aqp4","Gfap"],
    "OPC":["Olig2"],
    "ODC":["Plp1"],
    'Neuron':["Map2","Dcx"],
    'Ependymal':["Tmem212","Foxj1"],
    'Fibroblast':["Dcn","Lum"],
    'Vascular endothelial cell':["Pecam1"],
    'Macrophage':["Ms4a7","Cd74"],
    'Lymphocyte':["Cd3d"],
    'Endothelial':["Cldn5","Pecam1"],
    'Dividing cell':["Cdk1","Mki67"],
    'Lymphocyte':["Cd3d"],
    'NK cell':["Nkg7"],
    'Th17':["Rora"],
    'B cell':["Cd79a","Cd79b"],
    'Monocyte':["Ly6c2","Csf1r"],
    'Macrophages':[ "Lyz2","Cd68"],
    'Neutrophils':["S100a8","S100a9"],
    'Dendritic cell':['Ccr7',"Cd74"]  
}
marker_list = []

for k,v in cluster.items():
    if isinstance(v,list):
        marker_list.extend(v)
    else:
        marker_list.append(v)


sc.pl.dotplot(adata, cluster, 'Celltype', dendrogram=True,cmap='OrRd',save= 'DOTmarker1.pdf')
sc.pl.dotplot(adata,marker_list, 'Celltype',cmap='OrRd',swap_axes=True,save= 'DOTmarker2.pdf')


sc.pl.stacked_violin(adata, cluster, 'Celltype', cmap='OrRd',swap_axes=False,save='marker.pdf')


import gc
gc.collect()


adata.write('./01.single data/scRNA_celltype.h5ad')


sc.settings.figdir = './result/'
sc.settings.set_figure_params(dpi=100,dpi_save=600,figsize=(5,5))
sc.pl.umap(adata,color=marker_list,ncols=4,cmap='OrRd',size=15,legend_fontsize=12,save='allmarker.pdf')



