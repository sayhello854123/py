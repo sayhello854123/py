get_ipython().run_line_magic("matplotlib", " inline")
get_ipython().run_line_magic("config", " InlineBackend.figure_format = 'retina'")

import numpy as np
import pandas as pd
import seaborn as sns
import scanpy as sc
from glob import iglob
import anndata
#import scrublet as scr # requires 'pip install scrublet'
import os
import sklearn
from sklearn.linear_model import LogisticRegression
import matplotlib as mpl
import scipy
import matplotlib.pyplot as plt
import pickle


np.random.seed(0)


sc.settings.verbosity = 3  # verbosity: errors (0), warnings (1), info (2), hints (3)
sc.logging.print_versions()
sc.settings.set_figure_params(dpi=100)  # low dpi (dots per inch) yields small inline figures


save_path = './result/'


samples = ['GSM6167515_P01-GG.expression_matrix.txt.gz',
           'GSM6167516_P01-S.expression_matrix.txt.gz',
           'GSM6167517_P02-GG.expression_matrix.txt.gz',
           'GSM6167518_P02-S.expression_matrix.txt.gz',
           'GSM6167519_P03-GG.expression_matrix.txt.gz',
           'GSM6167520_P03-S.expression_matrix.txt.gz'
          ]


Patients = {}
Patients['GSM6167515_P01-GG.expression_matrix.txt.gz'] = 'P01'
Patients['GSM6167516_P01-S.expression_matrix.txt.gz'] = 'P01'

Patients['GSM6167517_P02-GG.expression_matrix.txt.gz'] = 'P02'
Patients['GSM6167518_P02-S.expression_matrix.txt.gz'] = 'P02'

Patients['GSM6167519_P03-GG.expression_matrix.txt.gz'] = 'P03'
Patients['GSM6167520_P03-S.expression_matrix.txt.gz'] = 'P03'


Disease_Type ={}
Disease_Type['GSM6167515_P01-GG.expression_matrix.txt.gz'] = 'GG'
Disease_Type['GSM6167516_P01-S.expression_matrix.txt.gz'] = 'S'

Disease_Type['GSM6167517_P02-GG.expression_matrix.txt.gz'] = 'GG'
Disease_Type['GSM6167518_P02-S.expression_matrix.txt.gz'] = 'S'

Disease_Type['GSM6167519_P03-GG.expression_matrix.txt.gz'] ='GG'
Disease_Type['GSM6167520_P03-S.expression_matrix.txt.gz'] = 'S'


get_ipython().run_cell_magic("time", "", """for sample in samples:
    print('sample', sample,
          "from scRNA-seq samples", list(samples).index(sample)+1,
          'out of', len(samples))
    path = './'+sample
    scRNA = pd.read_csv(path,header=0,index_col=0,sep ='\t')
    scRNA = pd.DataFrame(scRNA.T, index=scRNA.columns, columns=scRNA.index)
    name1 = sample.replace('.txt.gz','.csv')
    path1 = './result/'+name1
    scRNA.to_csv(path1)  
    print(name1,'转化完成')""")


samples = ['GSM6167515_P01-GG.expression_matrix.csv',
           'GSM6167516_P01-S.expression_matrix.csv',
           'GSM6167517_P02-GG.expression_matrix.csv',
           'GSM6167518_P02-S.expression_matrix.csv',
           'GSM6167519_P03-GG.expression_matrix.csv',
           'GSM6167520_P03-S.expression_matrix.csv'
          ]
Patients = {}
Patients['GSM6167515_P01-GG.expression_matrix.csv'] = 'P01'
Patients['GSM6167516_P01-S.expression_matrix.csv'] = 'P01'

Patients['GSM6167517_P02-GG.expression_matrix.csv'] = 'P02'
Patients['GSM6167518_P02-S.expression_matrix.csv'] = 'P02'

Patients['GSM6167519_P03-GG.expression_matrix.csv'] = 'P03'
Patients['GSM6167520_P03-S.expression_matrix.csv'] = 'P03'
Disease_Type ={}
Disease_Type['GSM6167515_P01-GG.expression_matrix.csv'] = 'GG'
Disease_Type['GSM6167516_P01-S.expression_matrix.csv'] = 'S'

Disease_Type['GSM6167517_P02-GG.expression_matrix.csv'] = 'GG'
Disease_Type['GSM6167518_P02-S.expression_matrix.csv'] = 'S'

Disease_Type['GSM6167519_P03-GG.expression_matrix.csv'] ='GG'
Disease_Type['GSM6167520_P03-S.expression_matrix.csv'] = 'S'


get_ipython().run_cell_magic("time", "", """holder = []
for sample in samples:
    print('sample', sample,
          "from scRNA-seq samples", list(samples).index(sample)+1,
          'out of', len(samples))
    path = './result/'+sample
    holder.append(sc.read_csv(path,first_column_names=True))
    holder[-1].var_names_make_unique()
    print("unfilter :",sample,holder[-1].shape)
    sc.pp.filter_cells(holder[-1], min_genes=200)
    sc.pp.filter_genes(holder[-1], min_cells=3)
    print("filter :",sample,holder[-1].shape)
    curr_info = Patients[sample]
    type_info =Disease_Type[sample]
    holder[-1].obs['Patients'] = curr_info
    holder[-1].obs['Disease'] = type_info
    holder[-1].layers['counts'] = holder[-1].X.copy()
    holder[-1].obs['sample'] = sample

adata = holder[0].concatenate(holder[1:],join='outer',index_unique=None)""")


adata.var[:,3]


adata.var[3,:]


df=adata.var


df.fillna(0, inplace=True)


df['Row_sum'] = df.apply(lambda x: x.sum())


df[0,:]


adata
adata.write('./result/GSE203360_raw_adata.h5ad')


adata.var['mt'] = adata.var_names.str.startswith('MT-')
sc.pp.calculate_qc_metrics(adata, qc_vars=['mt'], percent_top=None, log1p=False, inplace=True)


adata.var


adata.var_names


p1 = sc.pl.scatter(adata, 'n_genes_by_counts', 'n_genes', color='pct_counts_mt'')
p2 = sc.pl.scatter(adata[adata.obs['n_genes_by_counts']<10000], 'n_genes_by_counts', 'n_genes', color=pct_counts_mt'')



sc.pl.violin(adata, ['n_genes_by_counts', 'total_counts', 'pct_counts_mt'],
             jitter=0.4, multi_panel=True)



