get_ipython().run_line_magic("matplotlib", " inline")
get_ipython().run_line_magic("config", " InlineBackend.figure_format = 'retina'")

import numpy as np
import pandas as pd
import seaborn as sns
import scanpy as sc
from glob import iglob
import scrublet as scr
import anndata
import scanpy.external as sce
import scvelo as scv
import infercnvpy as cnv
import os
import sklearn
import bbknn
from sklearn.linear_model import LogisticRegression
import matplotlib as mpl
import scipy
import matplotlib.pyplot as plt
import pickle

np.random.seed(0)
sc.settings.verbosity = 3  # verbosity: errors (0), warnings (1), info (2), hints (3)
sc.logging.print_versions()
sc.settings.set_figure_params(dpi=80)  # low dpi (dots per inch) yields small inline figures


adata = sc.read_h5ad('./cache/scRNA_cnv.h5ad')


adata.obs['cell type'].value_counts()


sc.pp.normalize_total(adata, target_sum=1e4)
sc.pp.log1p(adata)


sc.tl.rank_genes_groups(adata,'metastasis_status',method='wilcoxon')
sc.pl.rank_genes_groups(adata, n_genes=25, sharey=False)





Epithelial=adata[adata.obs['cell type'].isin(['Epithelial'])]
EPI=adata[adata.obs.index.isin(Epithelial.obs.index)]


EPI.obs['metastasis_status'].value_counts()


sc.tl.rank_genes_groups(EPI,'metastasis_status',method='wilcoxon')
sc.pl.rank_genes_groups(EPI, n_genes=25, sharey=False)


result =EPI.uns['rank_genes_groups']
groups = result['names'].dtype.names
res = pd.DataFrame(    {group + '_' + key: result[key][group]    for group in groups for key in ['names', 'pvals','logfoldchanges','pvals_adj','scores']})


res.to_csv("diff_EP1.csv")


EPI.obs


EPI.obs['cnv_status'].value_counts()


sc.tl.rank_genes_groups(EPI,'cnv_status',method='wilcoxon')
sc.pl.rank_genes_groups(EPI, n_genes=25, sharey=False)


result =EPI.uns['rank_genes_groups']
groups = result['names'].dtype.names
res = pd.DataFrame(    {group + '_' + key: result[key][group]    for group in groups for key in ['names', 'pvals','logfoldchanges','pvals_adj','scores']})


res.to_csv("diff_cnv.csv")



