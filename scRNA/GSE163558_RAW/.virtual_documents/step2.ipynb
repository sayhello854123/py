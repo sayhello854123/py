get_ipython().run_line_magic("matplotlib", " inline")
get_ipython().run_line_magic("config", " InlineBackend.figure_format = 'retina'")

import numpy as np
import pandas as pd
import seaborn as sns
import scanpy as sc
from glob import iglob
import scrublet as scr
import anndata
import scanpy.external as sce
#import scrublet as scr # requires 'pip install scrublet'
import os
import sklearn
from sklearn.linear_model import LogisticRegression
import matplotlib as mpl
import scipy
import matplotlib.pyplot as plt
import pickle


get_ipython().run_line_magic('pinfo2', 'sc.read_visium')


np.random.seed(0)


sc.settings.verbosity = 3  # verbosity: errors (0), warnings (1), info (2), hints (3)
sc.logging.print_versions()
sc.settings.set_figure_params(dpi=80,dpi_save=800)  # low dpi (dots per inch) yields small inline figures


adata = sc.read_h5ad('./cache/scRNA_merge.h5ad')


adata


adata.obs


# Quality control - plot QC metrics
#Sample quality plots
plt.rcParams['figure.figsize']=(8,8)
t1 = sc.pl.violin(adata, 'n_counts', groupby='Sample', size=2, log=True, cut=0)
t2 = sc.pl.violin(adata, ['n_counts','n_genes','percent_mito'], groupby='Sample',save='qc_violin.pdf')


upper_lim = np.quantile(adata.obs.n_genes.values,.98)
lower_lim = np.quantile(adata.obs.n_genes.values,.02)
maxUMI = np.quantile(adata.obs.n_counts.values,.98)
print(f'{lower_lim} to {upper_lim}')
print(f'{maxUMI}')


adata = adata[(adata.obs.n_genes < upper_lim)& (adata.obs.n_genes > lower_lim)]
adata = adata[adata.obs.percent_mito < 0.2,:]
adata = adata[adata.obs.n_counts <maxUMI]


plt.rcParams['figure.figsize']=(6,6)
t3 = sc.pl.violin(adata, ['n_counts','n_genes','percent_mito'], groupby='Sample')


adata


#Data quality summary plots
p1 = sc.pl.scatter(adata, 'n_counts', 'n_genes', color='percent_mito')
p2 = sns.distplot(adata.obs['percent_mito'], kde=False)


scrub = scr.Scrublet(adata.X)
adata.obs['doublet_scores'], adata.obs['predicted_doublets'] = scrub.scrub_doublets()


num_predicted_doublets = sum(adata.obs['predicted_doublets'])
print(f"Predicted {num_predicted_doublets} doublets")


adata.obs['doublet_info'] = adata.obs["predicted_doublets"].astype(str)
adata.obs


sc.pl.violin(adata, 'n_genes',
             jitter=0.4, groupby = 'doublet_info', rotation=45)


adata = adata[adata.obs['doublet_info'] == 'False',:]
print(adata.shape)


sc.pp.normalize_total(adata, target_sum=1e4)
sc.pp.log1p(adata)


adata


adata.write('./cache/scRNA_qc.h5ad')


save_path = './01/'
sc.pp.highly_variable_genes(adata, min_mean=0.0125, max_mean=3, min_disp=0.5)
print("Highly variable genes: %d"%sum(adata.var.highly_variable))
sc.pl.highly_variable_genes(adata,save='_filter.pdf')


adata.raw =adata


adata = adata[:, adata.var.highly_variable]
sc.pp.regress_out(adata, ['n_counts', 'percent_mito'])
sc.pp.scale(adata, max_value=10)


sc.tl.pca(adata, svd_solver='arpack')


sc.pl.pca_variance_ratio(adata, log=True,n_pcs = 50)


sns.lineplot(data = adata.uns['pca']['variance_ratio'],palette= 'tab10',linewidth = 3)


adata.uns['pca']['variance']


sns.lineplot(data =adata.uns['pca']['variance'],palette='tab10',linewidth = 3)


for i in range(10,50,5):
    sc.pp.neighbors(adata,n_pcs=40, n_neighbors= i)
    sc.tl.umap(adata)
    print(f'neighbors的数值为：{i}')
    sc.pl.umap(adata)


    sc.pp.neighbors(adata,n_pcs=40, n_neighbors= 25)
    sc.tl.umap(adata)
    sc.pl.umap(adata)


for i in range(1,16):
    sc.tl.leiden(adata,resolution=round(i*0.1,1),key_added=f'cluster_{round(i*0.1,1)}')


sc.pl.umap(adata,color = [f'cluster_{round(i*0.1,1)}' for i in range(1,16)],ncols = 3)


adata.write('./cache/scRNA_cluster.h5ad')


adata.


sc.tl.rank_genes_groups(adata,'metastasis_status',method='wilcoxon')
sc.pl.rank_genes_groups(adata, n_genes=25, sharey=False)


pd.DataFrame(adata.uns['rank_genes_groups']['names']).head(35)


result = adata.uns['rank_genes_groups']
groups = result['names'].dtype.names
res = pd.DataFrame(    {group + '_' + key: result[key][group]    for group in groups for key in ['names', 'pvals','logfoldchanges','pvals_adj','scores']})


res.to_csv("diff_cluster.csv")


def annot_prelim(adata_obj, barcode):
    curr_louvain_coarse = adata_obj.obs.loc[barcode,'cluster_0.3']
    if curr_louvain_coarse in ['0','1','2','3']:
        return('T cell')
    elif curr_louvain_coarse in ['8','4']:
        return('B cell')
    elif curr_louvain_coarse in ['7']:
        return('Epithelial')
    elif curr_louvain_coarse in ['12']:
        return('Endothelial')
    elif curr_louvain_coarse in ['11']:
        return('Fibroblast')
    elif curr_louvain_coarse in ['13']:
        return('Proliferative')
    elif curr_louvain_coarse in ['10']:
        return('Plasma cell')
    elif curr_louvain_coarse in ['6']:
        return('NK cell')
    elif curr_louvain_coarse in ['5']:
        return('Neutrophils')
    elif curr_louvain_coarse in ['9']:
        return('Monocytes')
    else:
        return('Mast cells')


adata.obs['barcode'] = adata.obs.index


adata.obs['cell_type'] = adata.obs['barcode'].apply(lambda x: annot_prelim(adata,x))



