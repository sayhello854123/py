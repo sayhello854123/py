get_ipython().run_line_magic("matplotlib", " inline")
get_ipython().run_line_magic("config", " InlineBackend.figure_format = 'retina'")

import numpy as np
import pandas as pd
import seaborn as sns
import scanpy as sc
from glob import iglob
import scrublet as scr
import anndata
import scanpy.external as sce
import scvelo as scv
#import scrublet as scr # requires 'pip install scrublet'
import os
import sklearn
import bbknn
from sklearn.linear_model import LogisticRegression
import matplotlib as mpl
import scipy
import matplotlib.pyplot as plt
import pickle

np.random.seed(0)
sc.settings.verbosity = 3  # verbosity: errors (0), warnings (1), info (2), hints (3)
sc.logging.print_versions()
sc.settings.set_figure_params(dpi=80,dpi_save=800)  # low dpi (dots per inch) yields small inline figures


adata = sc.read_h5ad('./cache/scRNA_cluster.h5ad')


adata


adata.obs


sc.settings.set_figure_params(dpi=100,dpi_save=600,figsize=(6,6))
type = ['Sample', 'Tissue','metastasis_status','cluster_0.3']
for i in type:
    sc.pl.umap(adata, color=i,add_outline=True, legend_loc='right margin',
               legend_fontsize=15, legend_fontoutline= 1,frameon= True,save= i )


sc.settings.set_figure_params(dpi=100,dpi_save=600,figsize=(8,8))
type = ['Sample', 'Tissue','metastasis_status']
sc.pl.umap(adata, color=type,add_outline=True, legend_loc='right margin',
               legend_fontsize=15, legend_fontoutline= 1,frameon= True,save='type.pdf',show=False)


markers = ["EPCAM", #epithelial 
            "PECAM1",#stromal
            "FN1",#fibroblast
            "MKI67",#proliferative
            "CD3D","CD2",##T
            "MS4A1","CD79A",##B
             "MZB1",#浆细胞
            "KLRD1",##NK
             "KIT",#mast cells 
            "CSF3R","FCGR3A",#Neutrophils
            "CD163","CD68",#monocytes/macrophage
          'CLDN4','CLDN7','TFF3']#Malignant


sc.settings.set_figure_params(dpi=100,dpi_save=600,figsize=(5,5))
sc.pl.umap(adata, color='cluster_0.3',add_outline=True, legend_loc='on data',
               legend_fontsize=15, legend_fontoutline= 1,frameon= True,save='cluster.pdf')
sc.pl.dotplot(adata, markers, 'cluster_0.3', dendrogram=True,save = 'dotmarker.pdf')


def annot_prelim(adata_obj, barcode):
    curr_louvain_coarse = adata_obj.obs.loc[barcode,'cluster_0.3']
    if curr_louvain_coarse in ['0','1','2','3']:
        return('T cell')
    elif curr_louvain_coarse in ['8','4']:
        return('B cell')
    elif curr_louvain_coarse in ['7']:
        return('Epithelial')
    elif curr_louvain_coarse in ['12']:
        return('Endothelial')
    elif curr_louvain_coarse in ['11']:
        return('Fibroblast')
    elif curr_louvain_coarse in ['13']:
        return('Proliferative')
    elif curr_louvain_coarse in ['10']:
        return('Plasma cell')
    elif curr_louvain_coarse in ['6']:
        return('NK cell')
    elif curr_louvain_coarse in ['5']:
        return('Neutrophils')
    elif curr_louvain_coarse in ['9']:
        return('Monocytes')
    else:
        return('Mast cells')


adata.obs['barcode'] = adata.obs.index
adata.obs['cell type'] = adata.obs['barcode'].apply(lambda x: annot_prelim(adata,x))
adata.obs


adata.obs["cell type"] = adata.obs["cell type"].astype('category')
adata.obs["cell type"].cat.categories


new_colors = np.empty(len(adata.obs["cell type"].cat.categories), dtype=object) 
new_colors[[0]] = '#FF6600' # B cell
new_colors[[1]] = '#003366' # Endothelial
new_colors[[2]] = '#0066CC' # Epithelial
new_colors[[3]] = '#00CC33' # Fibroblasts
new_colors[[4]] = '#660066' # mast cell
new_colors[[5]] = '#FF0066' # Monocytes
new_colors[[6]] = '#FF9900' # NK celll
new_colors[[7]] = '#6600CC' # Neutrophils
new_colors[[8]] = '#6699FF' # Plasma cell
new_colors[[9]] = '#CCFF00' # Proliferative
new_colors[[10]] = '#FF0033' # T celll
adata.uns["cell type_colors"] = new_colors
new_colors


sc.settings.set_figure_params(dpi=100,dpi_save=600,figsize=(8,8))
sc.pl.umap(adata, color='cell type',add_outline=True, legend_loc='on data',
               legend_fontsize=10, legend_fontoutline= 1,frameon= True,save='celltype.pdf')


cluster = {
    'B cell':["MS4A1",'CD79A'],
    'Endothelial':["PECAM1"],
    'Epithelial':["EPCAM"],
    'Fibroblasts':["FN1"],
    'NK cell':['KLRD1'],
    'T cell':["CD3D","CD2"],
    'Plasma cell':['MZB1'],
    'Neutrophils':["CSF3R","FCGR3A"],
    'Mast cell':["KIT"],
    'Monocytes':["CD163","CD68"],
    'Proliferative':["MKI67"]
}
marker_list = []

for k,v in cluster.items():
    if isinstance(v,list):
        marker_list.extend(v)
    else:
        marker_list.append(v)


sc.pl.dotplot(adata, cluster, 'cell type', dendrogram=True,cmap='OrRd',save= 'DOTmarker1.pdf')
sc.pl.dotplot(adata,marker_list, 'cell type',cmap='OrRd',swap_axes=True,save= 'DOTmarker2.pdf')


sc.pl.umap(adata,color=marker_list,ncols=5,cmap='OrRd',size=15,legend_fontsize=12,save='allmarker.png')


adata.write('./cache/scRNA_celltype.h5ad')


sc.pl.umap(adata,color=['HUWE1','TGFBR2'],ncols=2,cmap='OrRd',size=15,legend_fontsize=12)


marker = ['HUWE1','TGFBR2']


sc.pl.dotplot(adata,marker,'cell type',cmap='OrRd',swap_axes=True)



