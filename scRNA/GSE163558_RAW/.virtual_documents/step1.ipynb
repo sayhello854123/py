get_ipython().run_line_magic("matplotlib", " inline")
get_ipython().run_line_magic("config", " InlineBackend.figure_format = 'retina'")

import numpy as np
import pandas as pd
import seaborn as sns
import scanpy as sc
from glob import iglob
import anndata
#import scrublet as scr # requires 'pip install scrublet'
import os
import sklearn
from sklearn.linear_model import LogisticRegression
import matplotlib as mpl
import scipy
import matplotlib.pyplot as plt
import pickle


np.random.seed(0)


sc.settings.verbosity = 3  # verbosity: errors (0), warnings (1), info (2), hints (3)
sc.logging.print_versions()
sc.settings.set_figure_params(dpi=80)  # low dpi (dots per inch) yields small inline figures


Tissue ={}
Tissue['GSM5004180_PT1'] = 'Gastric'
Tissue['GSM5004181_PT2'] = 'Gastric'
Tissue['GSM5004182_PT3'] = 'Gastric'

Tissue['GSM5004183_NT1'] = 'Normal'
Tissue['GSM5004184_LN1'] = 'Lymph node'
Tissue['GSM5004185_LN2'] = 'Lymph node'
Tissue['GSM5004187_P1'] = 'Peritoneum'
Tissue['GSM5004188_Li1'] = 'Liver'
Tissue['GSM5004189_Li2'] = 'Liver'

metastasis_status = {}
metastasis_status['GSM5004180_PT1'] = 'Primary'
metastasis_status['GSM5004181_PT2'] = 'Primary'
metastasis_status['GSM5004182_PT3'] = 'Primary'

metastasis_status['GSM5004183_NT1'] = 'Normal'
metastasis_status['GSM5004184_LN1'] = 'Metastasis'
metastasis_status['GSM5004185_LN2'] = 'Metastasis'
metastasis_status['GSM5004187_P1'] = 'Metastasis'
metastasis_status['GSM5004188_Li1'] = 'Metastasis'
metastasis_status['GSM5004189_Li2'] = 'Metastasis'



get_ipython().run_cell_magic("time", "", """import os
holder = []
path = './00.data/'
files = os.listdir(path)
for file in files:
    file_dir = os.path.join(path,file)
    print("开始处理：",file)
    holder.append(sc.read_10x_mtx(file_dir,var_names= 'gene_symbols',cache=True))
    holder[-1].var_names_make_unique()
     # Filer cells with less than 200 genes expressed
    sc.pp.filter_cells(holder[-1], min_genes=200)
    
    # Filer genes expressed in less than 3 cells
    sc.pp.filter_genes(holder[-1], min_cells=3)
    ##add metadata
    holder[-1].obs['ID'] = file.split('_')[0]
    holder[-1].obs['Sample'] = file.split('_')[1]
    info = Tissue[file]
    holder[-1].obs['Tissue'] = info
    stau = metastasis_status[file]
    holder[-1].obs['metastasis_status'] = stau
    ##add percent_mito
    mito_genes = [name for name in holder[-1].var_names if name.startswith('MT-')]
    holder[-1].obs['percent_mito'] = np.sum(
        holder[-1][:, mito_genes].X, axis=1).A1 / np.sum(holder[-1].X, axis=1).A1
""")


get_ipython().run_cell_magic("time", "", """adata = holder[0].concatenate(holder[1:],join='outer',index_unique=None)
adata.X = adata.X.tocsr()""")


adata


adata.obs['n_counts'] = adata.X.sum(1)
adata.obs['log_counts'] = np.log(adata.obs['n_counts'])
adata.obs['n_genes'] = (adata.X > 0).sum(1)


adata.obs


adata.var


adata.write('./cache/scRNA_merge.h5ad')
