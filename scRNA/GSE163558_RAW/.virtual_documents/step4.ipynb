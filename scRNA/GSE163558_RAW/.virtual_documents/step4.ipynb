get_ipython().run_line_magic("matplotlib", " inline")
get_ipython().run_line_magic("config", " InlineBackend.figure_format = 'retina'")

import numpy as np
import pandas as pd
import seaborn as sns
import scanpy as sc
from glob import iglob
import scrublet as scr
import anndata
import scanpy.external as sce
import scvelo as scv
import infercnvpy as cnv
import os
import sklearn
import bbknn
from sklearn.linear_model import LogisticRegression
import matplotlib as mpl
import scipy
import matplotlib.pyplot as plt
import pickle

np.random.seed(0)
sc.settings.verbosity = 3  # verbosity: errors (0), warnings (1), info (2), hints (3)
sc.logging.print_versions()
sc.settings.set_figure_params(dpi=80)  # low dpi (dots per inch) yields small inline figures


adata = sc.read_h5ad('./cache/scRNA_celltype.h5ad')


adata.raw.var_names


adata.var


df = pd.read_csv('gene_infor.csv')


df


adata.var['chromosome'] = df['chr'].to_list()
adata.var['start'] = df['start'].to_list()
adata.var['end'] = df['end'].to_list()


adata = adata[: , adata.var.chromosome.notna()]


adata.obs


adata.var


get_ipython().run_line_magic('pinfo', 'cnv.tl.infercnv')


cnv.tl.infercnv(
    adata,
    reference_key="Tissue",
    reference_cat=[
        "Normal",
    ],
    window_size=250,
)


cnv.pl.chromosome_heatmap(adata, groupby=["cell type"],figsize=(16,18))
cnv.pl.chromosome_heatmap(adata, groupby=["Tissue"],figsize=(16,18))


#通过CNV剖面图聚类和识别肿瘤细胞
cnv.tl.pca(adata)
cnv.pp.neighbors(adata,n_pcs=40, n_neighbors= 25)
cnv.tl.leiden(adata,resolution=0.3)


cnv.tl.umap(adata)
cnv.tl.cnv_score(adata)


sc.settings.set_figure_params(dpi=100,dpi_save=600)
fig, ((ax1, ax2), (ax3, ax4)) = plt.subplots(
    2, 2, figsize=(12, 11), gridspec_kw=dict(wspace=0.5)
)
sc.pl.umap(adata, color="cnv_leiden",ax=ax1, show=False)
sc.pl.umap(adata, color="cnv_score",cmap='viridis',ax=ax2, show=False)
sc.pl.umap(adata, color="cell type", ax=ax3, show=False)
sc.pl.umap(adata, color="Tissue", ax=ax4)


markers = ['CLDN4','CLDN7','TFF3']#Malignant
sc.pl.umap(adata,color=markers,ncols=3,size=15,legend_fontsize=12,cmap='OrRd')


#肿瘤细胞分类
#根据这些观察结果，我们现在可以将细胞分配给“肿瘤”或“正常”。为此，我们在adata.obs中添加了一个新列cnv_status
adata.obs["cnv_status"] = "Normal"
adata.obs.loc[
    adata.obs["cnv_leiden"].isin(["2", "5"]), "cnv_status"
] = "Malignant"


sc.pl.umap(adata, color="cnv_status",add_outline=True, legend_loc='right margin',
               legend_fontsize=10, legend_fontoutline= 1,frameon= True,palette=['#FF3366', '#0066CC'],title='CNV')


adata.write('./cache/scRNA_cnv.h5ad')
