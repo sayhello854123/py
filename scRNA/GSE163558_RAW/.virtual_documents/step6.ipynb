get_ipython().run_line_magic("matplotlib", " inline")
get_ipython().run_line_magic("config", " InlineBackend.figure_format = 'retina'")
##load all packages
import anndata
import collections
import numpy as np
import pandas as pd
import scanpy as sc
import MACA as maca
import seaborn as sns
from glob import iglob
import scrublet as scr
import scanpy.external as sce
import scvelo as scv
#import scrublet as scr # requires 'pip install scrublet'
import os
import sklearn
import bbknn
from sklearn.linear_model import LogisticRegression
import matplotlib as mpl
import scipy
import matplotlib.pyplot as plt
import pickle

import warnings
warnings.filterwarnings("ignore")
np.random.seed(0)
sc.settings.verbosity = 3  # verbosity: errors (0), warnings (1), info (2), hints (3)
sc.logging.print_versions()
sc.settings.set_figure_params(dpi=80,dpi_save=800)  # low dpi (dots per inch) yields small inline figures


adata = sc.read_h5ad('./cache/scRNA_qc.h5ad')
mac2 = sc.read_h5ad('./cache/scRNA_cnv.h5ad')
mac1=mac2[mac2.obs['cell type'].isin(['Monocytes'])]
mac=adata[adata.obs.index.isin(mac1.obs.index)]


sc.pp.normalize_total(mac, target_sum=1e4)
sc.pp.log1p(mac)
sc.tl.pca(mac, svd_solver='arpack')
sc.pl.pca_variance_ratio(mac, log=True,n_pcs = 50)
sns.lineplot(data = mac.uns['pca']['variance_ratio'],palette= 'tab10',linewidth = 3)
mac.uns['pca']['variance']
sns.lineplot(data =mac.uns['pca']['variance'],palette='tab10',linewidth = 3)


for i in range(10,90,5):
    sc.pp.neighbors(mac,n_pcs=20, n_neighbors= i)
    sc.tl.umap(mac)
    print(f'neighbors的数值为：{i}')
    sc.pl.umap(mac)


sc.pp.neighbors(mac,n_pcs=40, n_neighbors= 70)
sc.tl.umap(mac)
sc.pl.umap(mac)


for i in range(1,16):
    sc.tl.leiden(mac,resolution=round(i*0.1,1),key_added=f'cluster_{round(i*0.1,1)}')


sc.pl.umap(mac,color = [f'cluster_{round(i*0.1,1)}' for i in range(1,16)],ncols = 3,save='mac_allcluster.pdf')


sc.tl.rank_genes_groups(mac,'cluster_0.8',method='wilcoxon')
sc.pl.rank_genes_groups(mac, n_genes=25, sharey=False)


pd.DataFrame(mac.uns['rank_genes_groups']['names']).head(10)


pg_df = pd.read_table("./00.data/PanglaoDB_markers_27_Mar_2020.tsv")
##remove mouse specific genes
pg_df = pg_df[pg_df['species']!='Mm']
cell_markers = {}##cell_marker is dictionary that contains names of cell types and their marker genes
marker_list = []
for i in list(set(pg_df["cell type"].values.tolist())):
    genes = pg_df[pg_df["cell type"]==i]['official gene symbol'].values.tolist()
    ##only use cell type with at least 5 genes and less than 300 genes
    if len(genes)>=5 and len(genes)<=300:
        cell_markers[i]=genes
        marker_list+= genes
marker_list = list(set(marker_list))
marker_list = [i for i in marker_list if i in adata.var.index]
len(marker_list)


ad = mac.copy()
ad = ad[:,marker_list]

##run MACA
ad, annotation = maca.singleMACA(ad=ad, cell_markers=cell_markers,
                                 res=[1,1.5,2],n_neis=[3,5,12])


ad.obs['Annotation']=np.array(annotation)
#map注释结果到leiden分类中
mac.obs['MACA']=ad.obs['Annotation']


sc.pl.umap(mac, color=['MACA'])


cluster = {
    'Monocytes':["CD14"],
    'Macrophage':["CD163","CCL7"],
    'M2 macrophage':["MRC1","CCL18"],
    'M1 macrophage':["IL7R","TNF"],
    'Dendritic cell':['CCL17',"CD68"]
}
sc.pl.stacked_violin(mac, cluster, groupby='cell type', swap_axes=False,save='Macrophage_marker.pdf')


def annot_prelim(adata_obj, barcode):
    curr_louvain_coarse = adata_obj.obs.loc[barcode,'cluster_0.8']
    if curr_louvain_coarse in ['2','3','5','6','9']:
        return('Macrophage')
    elif curr_louvain_coarse in ['0']:
        return('M2 macrophage')
    elif curr_louvain_coarse in ['4']:
        return('M1 macrophage')
    elif curr_louvain_coarse in ['7','8']:
        return('Dendritic cell')
    else:
        return('Monocytes')


mac.obs['barcode'] = mac.obs.index
mac.obs['cell type'] = mac.obs['barcode'].apply(lambda x: annot_prelim(mac,x))
mac.obs


sc.settings.set_figure_params(dpi=100,dpi_save=600,figsize=(6,6))
mac.obs["cell type"] =mac.obs["cell type"].astype('category')
sc.pl.umap(mac, color='cell type',add_outline=True, legend_loc='right margin',
               legend_fontsize=10, legend_fontoutline= 1,frameon= True,save='Macrophage.pdf')


mac.obs['cell type'].value_counts()


def draw_population_ratio(df:pd.DataFrame, x:str, y:str,
                          * ,data_colors:dict=None,
                          normalize=True,
                          path=None,
                          legend=True,
                          figsize=(6, 3)):
    df = df[[x, y]]
    x_items = df[x].cat.categories.tolist()
    y_items = df[y].cat.categories.tolist()
    y_dict = df[y].value_counts().to_dict()
    
    heights = []
    for x_item in x_items:
        tmp_result = []
        x_item_counter = df[df[x]==x_item][y].value_counts().to_dict()
        for y_item in y_items:
            tmp_result.append(x_item_counter.get(y_item, 0))
        heights.append(tmp_result)
    heights = np.asarray(heights)
    if normalize:
        heights = heights/np.sum(heights, axis=0)
    heights = (heights.T/np.sum(heights, axis=1)).T
    plt.figure(figsize=figsize)
    _last = np.matrix([0.]* heights.shape[0])
    for i, y_item in enumerate(y_items):
        p = plt.bar(range(0, heights.shape[0]), heights[:, i],
                    bottom=np.asarray(_last)[0],
                    color=data_colors.get(y_item, 'b'),
                    label=y_item
                   )
        _last = _last + np.matrix(heights[:, i])
    plt.xticks(range(0, len(x_items)),labels=x_items, rotation=70)
    plt.ylim((0, 1))
    if legend:
        plt.legend()
        ax = plt.gca()
        ax.legend(bbox_to_anchor=(0.65, 0, 0.7, 1))
    if path is not None:
        plt.savefig(path, dpi=600)



mac.obs['Tissue'] = mac.obs.Tissue.astype('category')


sc.pl.umap(mac, color='Tissue',add_outline=True, legend_loc='right margin',
               legend_fontsize=10, legend_fontoutline= 1,frameon= True)


mac.obs['cell type'].value_counts()


sns.set_style('white')
draw_population_ratio(mac.obs, x='cell type', y='Tissue',
                      data_colors=dict(zip(mac.obs.Tissue.cat.categories, mac.uns['Tissue_colors']))
                     )


get_ipython().getoutput("pip install squidpy ")


import squidpy as sq


sq.
